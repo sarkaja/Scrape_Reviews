{
 "cells": [
  {
   "cell_type": "code",
   "execution_count": null,
   "id": "e670de4e",
   "metadata": {},
   "outputs": [],
   "source": [
    "pip install selenium"
   ]
  },
  {
   "cell_type": "code",
   "execution_count": 3,
   "id": "eab41688",
   "metadata": {},
   "outputs": [
    {
     "name": "stderr",
     "output_type": "stream",
     "text": [
      "C:\\Users\\SJADVI~1\\AppData\\Local\\Temp/ipykernel_6120/3478598982.py:5: DeprecationWarning: executable_path has been deprecated, please pass in a Service object\n",
      "  driver = webdriver.Chrome('C:/Users/sjadviscok001/Downloads/chromedriver.exe')\n"
     ]
    },
    {
     "name": "stdout",
     "output_type": "stream",
     "text": [
      "Veřejný rejstřík a Sbírka listin - Ministerstvo spravedlnosti České republiky\n"
     ]
    }
   ],
   "source": [
    "from selenium import webdriver\n",
    "from selenium.webdriver.common.keys import Keys\n",
    "from selenium.webdriver.common.by import By\n",
    "import pandas as pd\n",
    "driver = webdriver.Chrome('C:/Users/sjadviscok001/Downloads/chromedriver.exe')\n",
    "driver.get(\"https://or.justice.cz/ias/ui/rejstrik\")\n",
    "print(driver.title)"
   ]
  },
  {
   "cell_type": "code",
   "execution_count": 27,
   "id": "3fe3b203",
   "metadata": {},
   "outputs": [
    {
     "name": "stderr",
     "output_type": "stream",
     "text": [
      "C:\\Users\\SJADVI~1\\AppData\\Local\\Temp/ipykernel_6120/1390209399.py:1: DeprecationWarning: executable_path has been deprecated, please pass in a Service object\n",
      "  driver = webdriver.Chrome('C:/Users/sjadviscok001/Downloads/chromedriver.exe')\n",
      "C:\\Users\\SJADVI~1\\AppData\\Local\\Temp/ipykernel_6120/1390209399.py:3: DeprecationWarning: find_elements_by_tag_name is deprecated. Please use find_elements(by=By.TAG_NAME, value=name) instead\n",
      "  load = driver.find_elements_by_tag_name('a.companyTitle.statCompanyDetail')\n"
     ]
    },
    {
     "data": {
      "text/plain": [
       "['Zahradní restaurace MIMINOO',\n",
       " 'YoCafe',\n",
       " 'Pizzerie Pasta e Basta',\n",
       " 'Pizza Einstein',\n",
       " 'La Piazza',\n",
       " 'Pizza Mňam',\n",
       " 'Pizzeria Rustica',\n",
       " 'Pizzeria Vende Maria',\n",
       " 'Sasy The Originál',\n",
       " 'Pizza Lab',\n",
       " 'il capitano ristorante',\n",
       " 'Pizza di Praga',\n",
       " 'Pizzeria Aria',\n",
       " 'Pizzerie Redflower']"
      ]
     },
     "execution_count": 27,
     "metadata": {},
     "output_type": "execute_result"
    }
   ],
   "source": [
    "driver = webdriver.Chrome('C:/Users/sjadviscok001/Downloads/chromedriver.exe')\n",
    "driver.get('https://www.firmy.cz/Restauracni-a-pohostinske-sluzby/Restaurace/Pizzerie?x=14.4425083333&y=50.0840777778&rt=ulice')\n",
    "load = driver.find_elements_by_tag_name('a.companyTitle.statCompanyDetail')\n",
    "\n",
    "companies = []\n",
    "\n",
    "for company in load:\n",
    "    companies.append(company.text)\n",
    "    \n",
    "driver.quit()\n",
    "companies"
   ]
  },
  {
   "cell_type": "code",
   "execution_count": 26,
   "id": "b021f2e5",
   "metadata": {},
   "outputs": [
    {
     "data": {
      "text/plain": [
       "['Zahradní restaurace MIMINOO Praha 3',\n",
       " 'YoCafe Praha 3',\n",
       " 'Pizzerie Pasta e Basta Praha 3',\n",
       " 'Pizza Einstein Praha 3',\n",
       " 'La Piazza Praha 3',\n",
       " 'Pizza Mňam Praha 3',\n",
       " 'Pizzeria Rustica Praha 3',\n",
       " 'Pizzeria Vende Maria Praha 3',\n",
       " 'Sasy The Originál Praha 3',\n",
       " 'Pizza Lab Praha 3',\n",
       " 'il capitano ristorante Praha 3',\n",
       " 'Pizza di Praga Praha 3',\n",
       " 'Pizzeria Aria Praha 3',\n",
       " 'Pizzerie Redflower Praha 3']"
      ]
     },
     "execution_count": 26,
     "metadata": {},
     "output_type": "execute_result"
    }
   ],
   "source": [
    "companiesx = []\n",
    "i = 0\n",
    "\n",
    "for h in companies:\n",
    "    companiesx.append(companies[i] + \" Praha 3\")\n",
    "    i = i+ 1\n",
    "\n",
    "companiesx"
   ]
  },
  {
   "cell_type": "code",
   "execution_count": 6,
   "id": "d2e83aee",
   "metadata": {},
   "outputs": [
    {
     "name": "stderr",
     "output_type": "stream",
     "text": [
      "C:\\Users\\SJADVI~1\\AppData\\Local\\Temp/ipykernel_6120/88568627.py:3: DeprecationWarning: executable_path has been deprecated, please pass in a Service object\n",
      "  driver = webdriver.Chrome('C:/Users/sjadviscok001/Downloads/chromedriver.exe')\n",
      "C:\\Users\\SJADVI~1\\AppData\\Local\\Temp/ipykernel_6120/88568627.py:17: DeprecationWarning: find_element_by_xpath is deprecated. Please use find_element(by=By.XPATH, value=xpath) instead\n",
      "  agree = driver.find_element_by_xpath('/html/body/div[2]/div[2]/div[3]/span/div/div/div/div[3]/button[2]/div')\n",
      "C:\\Users\\SJADVI~1\\AppData\\Local\\Temp/ipykernel_6120/88568627.py:21: DeprecationWarning: find_element_by_xpath is deprecated. Please use find_element(by=By.XPATH, value=xpath) instead\n",
      "  search = driver.find_element_by_xpath(\"/html/body/div[1]/div[3]/form/div[1]/div[1]/div[1]/div/div[2]/input\")\n",
      "C:\\Users\\SJADVI~1\\AppData\\Local\\Temp/ipykernel_6120/88568627.py:24: DeprecationWarning: find_element_by_tag_name is deprecated. Please use find_element(by=By.TAG_NAME, value=name) instead\n",
      "  gstars = driver.find_element_by_tag_name('span.Aq14fc')\n",
      "C:\\Users\\SJADVI~1\\AppData\\Local\\Temp/ipykernel_6120/88568627.py:26: DeprecationWarning: find_element_by_tag_name is deprecated. Please use find_element(by=By.TAG_NAME, value=name) instead\n",
      "  greviews = driver.find_element_by_tag_name('span.hqzQac')\n",
      "C:\\Users\\SJADVI~1\\AppData\\Local\\Temp/ipykernel_6120/88568627.py:29: DeprecationWarning: find_element_by_tag_name is deprecated. Please use find_element(by=By.TAG_NAME, value=name) instead\n",
      "  zstars = driver.find_element_by_tag_name('span.inaKse.G5rmf')\n",
      "C:\\Users\\SJADVI~1\\AppData\\Local\\Temp/ipykernel_6120/88568627.py:31: DeprecationWarning: find_element_by_tag_name is deprecated. Please use find_element(by=By.TAG_NAME, value=name) instead\n",
      "  zreviews = driver.find_element_by_tag_name('span.inaKse.KM6XSd')\n"
     ]
    },
    {
     "ename": "NoSuchElementException",
     "evalue": "Message: no such element: Unable to locate element: {\"method\":\"xpath\",\"selector\":\"/html/body/div[2]/div[2]/div[3]/span/div/div/div/div[3]/button[2]/div\"}\n  (Session info: chrome=99.0.4844.82)\nStacktrace:\nBacktrace:\n\tOrdinal0 [0x00AB9943+2595139]\n\tOrdinal0 [0x00A4C9F1+2148849]\n\tOrdinal0 [0x00944528+1066280]\n\tOrdinal0 [0x00970FD4+1249236]\n\tOrdinal0 [0x009711CB+1249739]\n\tOrdinal0 [0x0099D812+1431570]\n\tOrdinal0 [0x0098BA34+1358388]\n\tOrdinal0 [0x0099BAF2+1424114]\n\tOrdinal0 [0x0098B806+1357830]\n\tOrdinal0 [0x00966086+1204358]\n\tOrdinal0 [0x00966F96+1208214]\n\tGetHandleVerifier [0x00C5B232+1658114]\n\tGetHandleVerifier [0x00D1312C+2411516]\n\tGetHandleVerifier [0x00B4F261+560433]\n\tGetHandleVerifier [0x00B4E366+556598]\n\tOrdinal0 [0x00A5286B+2173035]\n\tOrdinal0 [0x00A575F8+2192888]\n\tOrdinal0 [0x00A576E5+2193125]\n\tOrdinal0 [0x00A611FC+2232828]\n\tBaseThreadInitThunk [0x7664FA29+25]\n\tRtlGetAppContainerNamedObjectPath [0x76EC7A7E+286]\n\tRtlGetAppContainerNamedObjectPath [0x76EC7A4E+238]\n",
     "output_type": "error",
     "traceback": [
      "\u001b[1;31m---------------------------------------------------------------------------\u001b[0m",
      "\u001b[1;31mNoSuchElementException\u001b[0m                    Traceback (most recent call last)",
      "\u001b[1;32mC:\\Users\\SJADVI~1\\AppData\\Local\\Temp/ipykernel_6120/88568627.py\u001b[0m in \u001b[0;36m<module>\u001b[1;34m\u001b[0m\n\u001b[0;32m     15\u001b[0m     \u001b[1;32mwhile\u001b[0m \u001b[1;36m1\u001b[0m\u001b[1;33m:\u001b[0m\u001b[1;33m\u001b[0m\u001b[1;33m\u001b[0m\u001b[0m\n\u001b[0;32m     16\u001b[0m         \u001b[1;32mif\u001b[0m \u001b[0mrun_once\u001b[0m \u001b[1;33m==\u001b[0m \u001b[1;36m0\u001b[0m\u001b[1;33m:\u001b[0m\u001b[1;33m\u001b[0m\u001b[1;33m\u001b[0m\u001b[0m\n\u001b[1;32m---> 17\u001b[1;33m             \u001b[0magree\u001b[0m \u001b[1;33m=\u001b[0m \u001b[0mdriver\u001b[0m\u001b[1;33m.\u001b[0m\u001b[0mfind_element_by_xpath\u001b[0m\u001b[1;33m(\u001b[0m\u001b[1;34m'/html/body/div[2]/div[2]/div[3]/span/div/div/div/div[3]/button[2]/div'\u001b[0m\u001b[1;33m)\u001b[0m\u001b[1;33m\u001b[0m\u001b[1;33m\u001b[0m\u001b[0m\n\u001b[0m\u001b[0;32m     18\u001b[0m             \u001b[0magree\u001b[0m\u001b[1;33m.\u001b[0m\u001b[0mclick\u001b[0m\u001b[1;33m(\u001b[0m\u001b[1;33m)\u001b[0m\u001b[1;33m\u001b[0m\u001b[1;33m\u001b[0m\u001b[0m\n\u001b[0;32m     19\u001b[0m             \u001b[0mrun_once\u001b[0m \u001b[1;33m=\u001b[0m \u001b[1;36m1\u001b[0m\u001b[1;33m\u001b[0m\u001b[1;33m\u001b[0m\u001b[0m\n",
      "\u001b[1;32m~\\Anaconda3\\lib\\site-packages\\selenium\\webdriver\\remote\\webdriver.py\u001b[0m in \u001b[0;36mfind_element_by_xpath\u001b[1;34m(self, xpath)\u001b[0m\n\u001b[0;32m    519\u001b[0m             \u001b[0mstacklevel\u001b[0m\u001b[1;33m=\u001b[0m\u001b[1;36m2\u001b[0m\u001b[1;33m,\u001b[0m\u001b[1;33m\u001b[0m\u001b[1;33m\u001b[0m\u001b[0m\n\u001b[0;32m    520\u001b[0m         )\n\u001b[1;32m--> 521\u001b[1;33m         \u001b[1;32mreturn\u001b[0m \u001b[0mself\u001b[0m\u001b[1;33m.\u001b[0m\u001b[0mfind_element\u001b[0m\u001b[1;33m(\u001b[0m\u001b[0mby\u001b[0m\u001b[1;33m=\u001b[0m\u001b[0mBy\u001b[0m\u001b[1;33m.\u001b[0m\u001b[0mXPATH\u001b[0m\u001b[1;33m,\u001b[0m \u001b[0mvalue\u001b[0m\u001b[1;33m=\u001b[0m\u001b[0mxpath\u001b[0m\u001b[1;33m)\u001b[0m\u001b[1;33m\u001b[0m\u001b[1;33m\u001b[0m\u001b[0m\n\u001b[0m\u001b[0;32m    522\u001b[0m \u001b[1;33m\u001b[0m\u001b[0m\n\u001b[0;32m    523\u001b[0m     \u001b[1;32mdef\u001b[0m \u001b[0mfind_elements_by_xpath\u001b[0m\u001b[1;33m(\u001b[0m\u001b[0mself\u001b[0m\u001b[1;33m,\u001b[0m \u001b[0mxpath\u001b[0m\u001b[1;33m)\u001b[0m \u001b[1;33m->\u001b[0m \u001b[0mList\u001b[0m\u001b[1;33m[\u001b[0m\u001b[0mWebElement\u001b[0m\u001b[1;33m]\u001b[0m\u001b[1;33m:\u001b[0m\u001b[1;33m\u001b[0m\u001b[1;33m\u001b[0m\u001b[0m\n",
      "\u001b[1;32m~\\Anaconda3\\lib\\site-packages\\selenium\\webdriver\\remote\\webdriver.py\u001b[0m in \u001b[0;36mfind_element\u001b[1;34m(self, by, value)\u001b[0m\n\u001b[0;32m   1246\u001b[0m             \u001b[0mvalue\u001b[0m \u001b[1;33m=\u001b[0m \u001b[1;34m'[name=\"%s\"]'\u001b[0m \u001b[1;33m%\u001b[0m \u001b[0mvalue\u001b[0m\u001b[1;33m\u001b[0m\u001b[1;33m\u001b[0m\u001b[0m\n\u001b[0;32m   1247\u001b[0m \u001b[1;33m\u001b[0m\u001b[0m\n\u001b[1;32m-> 1248\u001b[1;33m         return self.execute(Command.FIND_ELEMENT, {\n\u001b[0m\u001b[0;32m   1249\u001b[0m             \u001b[1;34m'using'\u001b[0m\u001b[1;33m:\u001b[0m \u001b[0mby\u001b[0m\u001b[1;33m,\u001b[0m\u001b[1;33m\u001b[0m\u001b[1;33m\u001b[0m\u001b[0m\n\u001b[0;32m   1250\u001b[0m             'value': value})['value']\n",
      "\u001b[1;32m~\\Anaconda3\\lib\\site-packages\\selenium\\webdriver\\remote\\webdriver.py\u001b[0m in \u001b[0;36mexecute\u001b[1;34m(self, driver_command, params)\u001b[0m\n\u001b[0;32m    423\u001b[0m         \u001b[0mresponse\u001b[0m \u001b[1;33m=\u001b[0m \u001b[0mself\u001b[0m\u001b[1;33m.\u001b[0m\u001b[0mcommand_executor\u001b[0m\u001b[1;33m.\u001b[0m\u001b[0mexecute\u001b[0m\u001b[1;33m(\u001b[0m\u001b[0mdriver_command\u001b[0m\u001b[1;33m,\u001b[0m \u001b[0mparams\u001b[0m\u001b[1;33m)\u001b[0m\u001b[1;33m\u001b[0m\u001b[1;33m\u001b[0m\u001b[0m\n\u001b[0;32m    424\u001b[0m         \u001b[1;32mif\u001b[0m \u001b[0mresponse\u001b[0m\u001b[1;33m:\u001b[0m\u001b[1;33m\u001b[0m\u001b[1;33m\u001b[0m\u001b[0m\n\u001b[1;32m--> 425\u001b[1;33m             \u001b[0mself\u001b[0m\u001b[1;33m.\u001b[0m\u001b[0merror_handler\u001b[0m\u001b[1;33m.\u001b[0m\u001b[0mcheck_response\u001b[0m\u001b[1;33m(\u001b[0m\u001b[0mresponse\u001b[0m\u001b[1;33m)\u001b[0m\u001b[1;33m\u001b[0m\u001b[1;33m\u001b[0m\u001b[0m\n\u001b[0m\u001b[0;32m    426\u001b[0m             response['value'] = self._unwrap_value(\n\u001b[0;32m    427\u001b[0m                 response.get('value', None))\n",
      "\u001b[1;32m~\\Anaconda3\\lib\\site-packages\\selenium\\webdriver\\remote\\errorhandler.py\u001b[0m in \u001b[0;36mcheck_response\u001b[1;34m(self, response)\u001b[0m\n\u001b[0;32m    245\u001b[0m                 \u001b[0malert_text\u001b[0m \u001b[1;33m=\u001b[0m \u001b[0mvalue\u001b[0m\u001b[1;33m[\u001b[0m\u001b[1;34m'alert'\u001b[0m\u001b[1;33m]\u001b[0m\u001b[1;33m.\u001b[0m\u001b[0mget\u001b[0m\u001b[1;33m(\u001b[0m\u001b[1;34m'text'\u001b[0m\u001b[1;33m)\u001b[0m\u001b[1;33m\u001b[0m\u001b[1;33m\u001b[0m\u001b[0m\n\u001b[0;32m    246\u001b[0m             \u001b[1;32mraise\u001b[0m \u001b[0mexception_class\u001b[0m\u001b[1;33m(\u001b[0m\u001b[0mmessage\u001b[0m\u001b[1;33m,\u001b[0m \u001b[0mscreen\u001b[0m\u001b[1;33m,\u001b[0m \u001b[0mstacktrace\u001b[0m\u001b[1;33m,\u001b[0m \u001b[0malert_text\u001b[0m\u001b[1;33m)\u001b[0m  \u001b[1;31m# type: ignore[call-arg]  # mypy is not smart enough here\u001b[0m\u001b[1;33m\u001b[0m\u001b[1;33m\u001b[0m\u001b[0m\n\u001b[1;32m--> 247\u001b[1;33m         \u001b[1;32mraise\u001b[0m \u001b[0mexception_class\u001b[0m\u001b[1;33m(\u001b[0m\u001b[0mmessage\u001b[0m\u001b[1;33m,\u001b[0m \u001b[0mscreen\u001b[0m\u001b[1;33m,\u001b[0m \u001b[0mstacktrace\u001b[0m\u001b[1;33m)\u001b[0m\u001b[1;33m\u001b[0m\u001b[1;33m\u001b[0m\u001b[0m\n\u001b[0m\u001b[0;32m    248\u001b[0m \u001b[1;33m\u001b[0m\u001b[0m\n\u001b[0;32m    249\u001b[0m     \u001b[1;32mdef\u001b[0m \u001b[0m_value_or_default\u001b[0m\u001b[1;33m(\u001b[0m\u001b[0mself\u001b[0m\u001b[1;33m,\u001b[0m \u001b[0mobj\u001b[0m\u001b[1;33m:\u001b[0m \u001b[0mMapping\u001b[0m\u001b[1;33m[\u001b[0m\u001b[0m_KT\u001b[0m\u001b[1;33m,\u001b[0m \u001b[0m_VT\u001b[0m\u001b[1;33m]\u001b[0m\u001b[1;33m,\u001b[0m \u001b[0mkey\u001b[0m\u001b[1;33m:\u001b[0m \u001b[0m_KT\u001b[0m\u001b[1;33m,\u001b[0m \u001b[0mdefault\u001b[0m\u001b[1;33m:\u001b[0m \u001b[0m_VT\u001b[0m\u001b[1;33m)\u001b[0m \u001b[1;33m->\u001b[0m \u001b[0m_VT\u001b[0m\u001b[1;33m:\u001b[0m\u001b[1;33m\u001b[0m\u001b[1;33m\u001b[0m\u001b[0m\n",
      "\u001b[1;31mNoSuchElementException\u001b[0m: Message: no such element: Unable to locate element: {\"method\":\"xpath\",\"selector\":\"/html/body/div[2]/div[2]/div[3]/span/div/div/div/div[3]/button[2]/div\"}\n  (Session info: chrome=99.0.4844.82)\nStacktrace:\nBacktrace:\n\tOrdinal0 [0x00AB9943+2595139]\n\tOrdinal0 [0x00A4C9F1+2148849]\n\tOrdinal0 [0x00944528+1066280]\n\tOrdinal0 [0x00970FD4+1249236]\n\tOrdinal0 [0x009711CB+1249739]\n\tOrdinal0 [0x0099D812+1431570]\n\tOrdinal0 [0x0098BA34+1358388]\n\tOrdinal0 [0x0099BAF2+1424114]\n\tOrdinal0 [0x0098B806+1357830]\n\tOrdinal0 [0x00966086+1204358]\n\tOrdinal0 [0x00966F96+1208214]\n\tGetHandleVerifier [0x00C5B232+1658114]\n\tGetHandleVerifier [0x00D1312C+2411516]\n\tGetHandleVerifier [0x00B4F261+560433]\n\tGetHandleVerifier [0x00B4E366+556598]\n\tOrdinal0 [0x00A5286B+2173035]\n\tOrdinal0 [0x00A575F8+2192888]\n\tOrdinal0 [0x00A576E5+2193125]\n\tOrdinal0 [0x00A611FC+2232828]\n\tBaseThreadInitThunk [0x7664FA29+25]\n\tRtlGetAppContainerNamedObjectPath [0x76EC7A7E+286]\n\tRtlGetAppContainerNamedObjectPath [0x76EC7A4E+238]\n"
     ]
    }
   ],
   "source": [
    "from selenium.webdriver.chrome.options import Options\n",
    "from selenium.webdriver.common.keys import Keys\n",
    "driver = webdriver.Chrome('C:/Users/sjadviscok001/Downloads/chromedriver.exe')\n",
    "\n",
    "stars_google = []\n",
    "number_of_reviews_google = []\n",
    "stars_zomato = []\n",
    "number_of_reviews_zomato = []\n",
    "i = 0\n",
    "order = 0\n",
    "\n",
    "for i in companies:\n",
    "    driver.get('https://www.google.com/')\n",
    "    run_once = 0\n",
    "    while 1:\n",
    "        if run_once == 0:\n",
    "            agree = driver.find_element_by_xpath('/html/body/div[2]/div[2]/div[3]/span/div/div/div/div[3]/button[2]/div')\n",
    "            agree.click() \n",
    "            run_once = 1\n",
    "        try:\n",
    "            search = driver.find_element_by_xpath(\"/html/body/div[1]/div[3]/form/div[1]/div[1]/div[1]/div/div[2]/input\")\n",
    "            search.send_keys(companiesx[order])  \n",
    "            search.send_keys(Keys.RETURN) \n",
    "            gstars = driver.find_element_by_tag_name('span.Aq14fc')\n",
    "            stars_google.append(gstars.text)\n",
    "            greviews = driver.find_element_by_tag_name('span.hqzQac')\n",
    "            number_of_reviews_google.append(greviews.text)\n",
    "            try:\n",
    "                zstars = driver.find_element_by_tag_name('span.inaKse.G5rmf')\n",
    "                stars_zomato.append(zstars.text)\n",
    "                zreviews = driver.find_element_by_tag_name('span.inaKse.KM6XSd')\n",
    "                number_of_reviews_zomato.append(zreviews.text)\n",
    "            except:\n",
    "                order = order + 1\n",
    "                i =+ 1\n",
    "                driver.get('https://www.google.com/')\n",
    "                continue\n",
    "        except:\n",
    "            if order == len(companies):\n",
    "                break\n",
    "            driver.get('https://www.google.com/')\n",
    "            order = order + 1\n",
    "            i =+ 1\n",
    "            continue\n",
    "        if order == len(companies):\n",
    "            break\n"
   ]
  },
  {
   "cell_type": "code",
   "execution_count": 7,
   "id": "4bfe1971",
   "metadata": {},
   "outputs": [],
   "source": [
    "df = pd.DataFrame(list(zip(companies, stars_google, number_of_reviews_google, stars_zomato,number_of_reviews_zomato)),\n",
    "               columns =['Name', 'Google Stars', 'Number of Reviews on Google', 'Zomato Stars', 'Number of Reviews on Zomato'])"
   ]
  },
  {
   "cell_type": "code",
   "execution_count": 9,
   "id": "bb60e11e",
   "metadata": {},
   "outputs": [
    {
     "data": {
      "text/html": [
       "<div>\n",
       "<style scoped>\n",
       "    .dataframe tbody tr th:only-of-type {\n",
       "        vertical-align: middle;\n",
       "    }\n",
       "\n",
       "    .dataframe tbody tr th {\n",
       "        vertical-align: top;\n",
       "    }\n",
       "\n",
       "    .dataframe thead th {\n",
       "        text-align: right;\n",
       "    }\n",
       "</style>\n",
       "<table border=\"1\" class=\"dataframe\">\n",
       "  <thead>\n",
       "    <tr style=\"text-align: right;\">\n",
       "      <th></th>\n",
       "      <th>Name</th>\n",
       "      <th>Google Stars</th>\n",
       "      <th>Number of Reviews on Google</th>\n",
       "      <th>Zomato Stars</th>\n",
       "      <th>Number of Reviews on Zomato</th>\n",
       "    </tr>\n",
       "  </thead>\n",
       "  <tbody>\n",
       "    <tr>\n",
       "      <th>0</th>\n",
       "      <td>Zahradní restaurace MIMINOO</td>\n",
       "      <td>3,9</td>\n",
       "      <td>744 recenzí Google</td>\n",
       "      <td>96 %</td>\n",
       "      <td>4 hlasy</td>\n",
       "    </tr>\n",
       "    <tr>\n",
       "      <th>1</th>\n",
       "      <td>YoCafe</td>\n",
       "      <td>4,8</td>\n",
       "      <td>210 recenzí Google</td>\n",
       "      <td>100 %</td>\n",
       "      <td>3 hlasy</td>\n",
       "    </tr>\n",
       "    <tr>\n",
       "      <th>2</th>\n",
       "      <td>Pizzerie Pasta e Basta</td>\n",
       "      <td>4,0</td>\n",
       "      <td>216 recenzí Google</td>\n",
       "      <td>3,7/5</td>\n",
       "      <td>· 4 hlasy</td>\n",
       "    </tr>\n",
       "    <tr>\n",
       "      <th>3</th>\n",
       "      <td>Pizza Einstein</td>\n",
       "      <td>3,8</td>\n",
       "      <td>981 recenzí Google</td>\n",
       "      <td>47 %</td>\n",
       "      <td>5 hlasů</td>\n",
       "    </tr>\n",
       "    <tr>\n",
       "      <th>4</th>\n",
       "      <td>La Piazza</td>\n",
       "      <td>3,6</td>\n",
       "      <td>96 recenzí Google</td>\n",
       "      <td>4/5</td>\n",
       "      <td>· 35 hlasů</td>\n",
       "    </tr>\n",
       "    <tr>\n",
       "      <th>5</th>\n",
       "      <td>Pizza Mňam</td>\n",
       "      <td>4,0</td>\n",
       "      <td>114 recenzí Google</td>\n",
       "      <td>100 %</td>\n",
       "      <td>1 hlas</td>\n",
       "    </tr>\n",
       "    <tr>\n",
       "      <th>6</th>\n",
       "      <td>Pizzeria Rustica</td>\n",
       "      <td>4,2</td>\n",
       "      <td>840 recenzí Google</td>\n",
       "      <td>100 %</td>\n",
       "      <td>2 hlasy</td>\n",
       "    </tr>\n",
       "    <tr>\n",
       "      <th>7</th>\n",
       "      <td>Pizzeria Vende Maria</td>\n",
       "      <td>4,3</td>\n",
       "      <td>576 recenzí Google</td>\n",
       "      <td>72 %</td>\n",
       "      <td>3 hlasy</td>\n",
       "    </tr>\n",
       "    <tr>\n",
       "      <th>8</th>\n",
       "      <td>Sasy The Originál</td>\n",
       "      <td>4,9</td>\n",
       "      <td>126 recenzí Google</td>\n",
       "      <td>100 %</td>\n",
       "      <td>1 hlas</td>\n",
       "    </tr>\n",
       "    <tr>\n",
       "      <th>9</th>\n",
       "      <td>Pizza Lab</td>\n",
       "      <td>4,2</td>\n",
       "      <td>115 recenzí Google</td>\n",
       "      <td>9/10</td>\n",
       "      <td>· 200 hlasů</td>\n",
       "    </tr>\n",
       "    <tr>\n",
       "      <th>10</th>\n",
       "      <td>il capitano ristorante</td>\n",
       "      <td>4,2</td>\n",
       "      <td>893 recenzí Google</td>\n",
       "      <td>4,5/5</td>\n",
       "      <td>186 hlasů</td>\n",
       "    </tr>\n",
       "    <tr>\n",
       "      <th>11</th>\n",
       "      <td>Pizza di Praga</td>\n",
       "      <td>4,0</td>\n",
       "      <td>53 recenzí Google</td>\n",
       "      <td>4/5</td>\n",
       "      <td>4 hlasy</td>\n",
       "    </tr>\n",
       "    <tr>\n",
       "      <th>12</th>\n",
       "      <td>Pizzeria Aria</td>\n",
       "      <td>4,2</td>\n",
       "      <td>447 recenzí Google</td>\n",
       "      <td>8,6/10</td>\n",
       "      <td>20 hlasů</td>\n",
       "    </tr>\n",
       "    <tr>\n",
       "      <th>13</th>\n",
       "      <td>Pizzerie Redflower</td>\n",
       "      <td>4,3</td>\n",
       "      <td>451 recenzí Google</td>\n",
       "      <td>100 %</td>\n",
       "      <td>2 hlasy</td>\n",
       "    </tr>\n",
       "  </tbody>\n",
       "</table>\n",
       "</div>"
      ],
      "text/plain": [
       "                           Name Google Stars Number of Reviews on Google  \\\n",
       "0   Zahradní restaurace MIMINOO          3,9          744 recenzí Google   \n",
       "1                        YoCafe          4,8          210 recenzí Google   \n",
       "2        Pizzerie Pasta e Basta          4,0          216 recenzí Google   \n",
       "3                Pizza Einstein          3,8          981 recenzí Google   \n",
       "4                     La Piazza          3,6           96 recenzí Google   \n",
       "5                    Pizza Mňam          4,0          114 recenzí Google   \n",
       "6              Pizzeria Rustica          4,2          840 recenzí Google   \n",
       "7          Pizzeria Vende Maria          4,3          576 recenzí Google   \n",
       "8             Sasy The Originál          4,9          126 recenzí Google   \n",
       "9                     Pizza Lab          4,2          115 recenzí Google   \n",
       "10       il capitano ristorante          4,2          893 recenzí Google   \n",
       "11               Pizza di Praga          4,0           53 recenzí Google   \n",
       "12                Pizzeria Aria          4,2          447 recenzí Google   \n",
       "13           Pizzerie Redflower          4,3          451 recenzí Google   \n",
       "\n",
       "   Zomato Stars Number of Reviews on Zomato  \n",
       "0          96 %                     4 hlasy  \n",
       "1         100 %                     3 hlasy  \n",
       "2         3,7/5                   · 4 hlasy  \n",
       "3          47 %                     5 hlasů  \n",
       "4           4/5                  · 35 hlasů  \n",
       "5         100 %                      1 hlas  \n",
       "6         100 %                     2 hlasy  \n",
       "7          72 %                     3 hlasy  \n",
       "8         100 %                      1 hlas  \n",
       "9          9/10                 · 200 hlasů  \n",
       "10        4,5/5                   186 hlasů  \n",
       "11          4/5                     4 hlasy  \n",
       "12       8,6/10                    20 hlasů  \n",
       "13        100 %                     2 hlasy  "
      ]
     },
     "execution_count": 9,
     "metadata": {},
     "output_type": "execute_result"
    }
   ],
   "source": [
    "df"
   ]
  },
  {
   "cell_type": "code",
   "execution_count": 21,
   "id": "4fa7eb11",
   "metadata": {},
   "outputs": [
    {
     "data": {
      "text/plain": [
       "['firmy.cz detail Zahradní restaurace MIMINOO Praha 3',\n",
       " 'firmy.cz detail YoCafe Praha 3',\n",
       " 'firmy.cz detail Pizzerie Pasta e Basta Praha 3',\n",
       " 'firmy.cz detail Pizza Einstein Praha 3',\n",
       " 'firmy.cz detail La Piazza Praha 3',\n",
       " 'firmy.cz detail Pizza Mňam Praha 3',\n",
       " 'firmy.cz detail Pizzeria Rustica Praha 3',\n",
       " 'firmy.cz detail Pizzeria Vende Maria Praha 3',\n",
       " 'firmy.cz detail Sasy The Originál Praha 3',\n",
       " 'firmy.cz detail Pizza Lab Praha 3',\n",
       " 'firmy.cz detail il capitano ristorante Praha 3',\n",
       " 'firmy.cz detail Pizza di Praga Praha 3',\n",
       " 'firmy.cz detail Pizzeria Aria Praha 3',\n",
       " 'firmy.cz detail Pizzerie Redflower Praha 3']"
      ]
     },
     "execution_count": 21,
     "metadata": {},
     "output_type": "execute_result"
    }
   ],
   "source": [
    "companies_ico = []\n",
    "i = 0\n",
    "\n",
    "for h in companiesx:\n",
    "    companies_ico.append(\"firmy.cz detail \" + companiesx[i])\n",
    "    i = i+ 1\n",
    "    \n",
    "companies_ico"
   ]
  },
  {
   "cell_type": "code",
   "execution_count": 13,
   "id": "f1e1827e",
   "metadata": {},
   "outputs": [
    {
     "name": "stderr",
     "output_type": "stream",
     "text": [
      "C:\\Users\\SJADVI~1\\AppData\\Local\\Temp/ipykernel_6120/271622584.py:3: DeprecationWarning: executable_path has been deprecated, please pass in a Service object\n",
      "  driver = webdriver.Chrome('C:/Users/sjadviscok001/Downloads/chromedriver.exe')\n",
      "C:\\Users\\SJADVI~1\\AppData\\Local\\Temp/ipykernel_6120/271622584.py:15: DeprecationWarning: find_element_by_xpath is deprecated. Please use find_element(by=By.XPATH, value=xpath) instead\n",
      "  agree = driver.find_element_by_xpath('/html/body/div[2]/div[2]/div[3]/span/div/div/div/div[3]/button[2]/div')\n",
      "C:\\Users\\SJADVI~1\\AppData\\Local\\Temp/ipykernel_6120/271622584.py:19: DeprecationWarning: find_element_by_xpath is deprecated. Please use find_element(by=By.XPATH, value=xpath) instead\n",
      "  search = driver.find_element_by_xpath(\"/html/body/div[1]/div[3]/form/div[1]/div[1]/div[1]/div/div[2]/input\")\n",
      "C:\\Users\\SJADVI~1\\AppData\\Local\\Temp/ipykernel_6120/271622584.py:22: DeprecationWarning: find_element_by_tag_name is deprecated. Please use find_element(by=By.TAG_NAME, value=name) instead\n",
      "  firma = driver.find_element_by_tag_name('h3.LC20lb.MBeuO.DKV0Md')\n",
      "C:\\Users\\SJADVI~1\\AppData\\Local\\Temp/ipykernel_6120/271622584.py:24: DeprecationWarning: find_element_by_tag_name is deprecated. Please use find_element(by=By.TAG_NAME, value=name) instead\n",
      "  icko = driver.find_element_by_tag_name('div.value.detailBusinessInfo')\n",
      "C:\\Users\\SJADVI~1\\AppData\\Local\\Temp/ipykernel_6120/271622584.py:26: DeprecationWarning: find_element_by_tag_name is deprecated. Please use find_element(by=By.TAG_NAME, value=name) instead\n",
      "  firms = driver.find_element_by_tag_name('h1.detailPrimaryTitle')\n",
      "C:\\Users\\SJADVI~1\\AppData\\Local\\Temp/ipykernel_6120/271622584.py:28: DeprecationWarning: find_element_by_tag_name is deprecated. Please use find_element(by=By.TAG_NAME, value=name) instead\n",
      "  driver.find_element_by_tag_name('body').send_keys(Keys.COMMAND + 't')\n"
     ]
    },
    {
     "ename": "NoSuchElementException",
     "evalue": "Message: no such element: Unable to locate element: {\"method\":\"xpath\",\"selector\":\"/html/body/div[2]/div[2]/div[3]/span/div/div/div/div[3]/button[2]/div\"}\n  (Session info: chrome=99.0.4844.82)\nStacktrace:\nBacktrace:\n\tOrdinal0 [0x00AB9943+2595139]\n\tOrdinal0 [0x00A4C9F1+2148849]\n\tOrdinal0 [0x00944528+1066280]\n\tOrdinal0 [0x00970FD4+1249236]\n\tOrdinal0 [0x009711CB+1249739]\n\tOrdinal0 [0x0099D812+1431570]\n\tOrdinal0 [0x0098BA34+1358388]\n\tOrdinal0 [0x0099BAF2+1424114]\n\tOrdinal0 [0x0098B806+1357830]\n\tOrdinal0 [0x00966086+1204358]\n\tOrdinal0 [0x00966F96+1208214]\n\tGetHandleVerifier [0x00C5B232+1658114]\n\tGetHandleVerifier [0x00D1312C+2411516]\n\tGetHandleVerifier [0x00B4F261+560433]\n\tGetHandleVerifier [0x00B4E366+556598]\n\tOrdinal0 [0x00A5286B+2173035]\n\tOrdinal0 [0x00A575F8+2192888]\n\tOrdinal0 [0x00A576E5+2193125]\n\tOrdinal0 [0x00A611FC+2232828]\n\tBaseThreadInitThunk [0x7664FA29+25]\n\tRtlGetAppContainerNamedObjectPath [0x76EC7A7E+286]\n\tRtlGetAppContainerNamedObjectPath [0x76EC7A4E+238]\n",
     "output_type": "error",
     "traceback": [
      "\u001b[1;31m---------------------------------------------------------------------------\u001b[0m",
      "\u001b[1;31mNoSuchElementException\u001b[0m                    Traceback (most recent call last)",
      "\u001b[1;32mC:\\Users\\SJADVI~1\\AppData\\Local\\Temp/ipykernel_6120/271622584.py\u001b[0m in \u001b[0;36m<module>\u001b[1;34m\u001b[0m\n\u001b[0;32m     13\u001b[0m     \u001b[1;32mwhile\u001b[0m \u001b[1;36m1\u001b[0m\u001b[1;33m:\u001b[0m\u001b[1;33m\u001b[0m\u001b[1;33m\u001b[0m\u001b[0m\n\u001b[0;32m     14\u001b[0m         \u001b[1;32mif\u001b[0m \u001b[0mrun_once\u001b[0m \u001b[1;33m==\u001b[0m \u001b[1;36m0\u001b[0m\u001b[1;33m:\u001b[0m\u001b[1;33m\u001b[0m\u001b[1;33m\u001b[0m\u001b[0m\n\u001b[1;32m---> 15\u001b[1;33m             \u001b[0magree\u001b[0m \u001b[1;33m=\u001b[0m \u001b[0mdriver\u001b[0m\u001b[1;33m.\u001b[0m\u001b[0mfind_element_by_xpath\u001b[0m\u001b[1;33m(\u001b[0m\u001b[1;34m'/html/body/div[2]/div[2]/div[3]/span/div/div/div/div[3]/button[2]/div'\u001b[0m\u001b[1;33m)\u001b[0m\u001b[1;33m\u001b[0m\u001b[1;33m\u001b[0m\u001b[0m\n\u001b[0m\u001b[0;32m     16\u001b[0m             \u001b[0magree\u001b[0m\u001b[1;33m.\u001b[0m\u001b[0mclick\u001b[0m\u001b[1;33m(\u001b[0m\u001b[1;33m)\u001b[0m\u001b[1;33m\u001b[0m\u001b[1;33m\u001b[0m\u001b[0m\n\u001b[0;32m     17\u001b[0m             \u001b[0mrun_once\u001b[0m \u001b[1;33m=\u001b[0m \u001b[1;36m1\u001b[0m\u001b[1;33m\u001b[0m\u001b[1;33m\u001b[0m\u001b[0m\n",
      "\u001b[1;32m~\\Anaconda3\\lib\\site-packages\\selenium\\webdriver\\remote\\webdriver.py\u001b[0m in \u001b[0;36mfind_element_by_xpath\u001b[1;34m(self, xpath)\u001b[0m\n\u001b[0;32m    519\u001b[0m             \u001b[0mstacklevel\u001b[0m\u001b[1;33m=\u001b[0m\u001b[1;36m2\u001b[0m\u001b[1;33m,\u001b[0m\u001b[1;33m\u001b[0m\u001b[1;33m\u001b[0m\u001b[0m\n\u001b[0;32m    520\u001b[0m         )\n\u001b[1;32m--> 521\u001b[1;33m         \u001b[1;32mreturn\u001b[0m \u001b[0mself\u001b[0m\u001b[1;33m.\u001b[0m\u001b[0mfind_element\u001b[0m\u001b[1;33m(\u001b[0m\u001b[0mby\u001b[0m\u001b[1;33m=\u001b[0m\u001b[0mBy\u001b[0m\u001b[1;33m.\u001b[0m\u001b[0mXPATH\u001b[0m\u001b[1;33m,\u001b[0m \u001b[0mvalue\u001b[0m\u001b[1;33m=\u001b[0m\u001b[0mxpath\u001b[0m\u001b[1;33m)\u001b[0m\u001b[1;33m\u001b[0m\u001b[1;33m\u001b[0m\u001b[0m\n\u001b[0m\u001b[0;32m    522\u001b[0m \u001b[1;33m\u001b[0m\u001b[0m\n\u001b[0;32m    523\u001b[0m     \u001b[1;32mdef\u001b[0m \u001b[0mfind_elements_by_xpath\u001b[0m\u001b[1;33m(\u001b[0m\u001b[0mself\u001b[0m\u001b[1;33m,\u001b[0m \u001b[0mxpath\u001b[0m\u001b[1;33m)\u001b[0m \u001b[1;33m->\u001b[0m \u001b[0mList\u001b[0m\u001b[1;33m[\u001b[0m\u001b[0mWebElement\u001b[0m\u001b[1;33m]\u001b[0m\u001b[1;33m:\u001b[0m\u001b[1;33m\u001b[0m\u001b[1;33m\u001b[0m\u001b[0m\n",
      "\u001b[1;32m~\\Anaconda3\\lib\\site-packages\\selenium\\webdriver\\remote\\webdriver.py\u001b[0m in \u001b[0;36mfind_element\u001b[1;34m(self, by, value)\u001b[0m\n\u001b[0;32m   1246\u001b[0m             \u001b[0mvalue\u001b[0m \u001b[1;33m=\u001b[0m \u001b[1;34m'[name=\"%s\"]'\u001b[0m \u001b[1;33m%\u001b[0m \u001b[0mvalue\u001b[0m\u001b[1;33m\u001b[0m\u001b[1;33m\u001b[0m\u001b[0m\n\u001b[0;32m   1247\u001b[0m \u001b[1;33m\u001b[0m\u001b[0m\n\u001b[1;32m-> 1248\u001b[1;33m         return self.execute(Command.FIND_ELEMENT, {\n\u001b[0m\u001b[0;32m   1249\u001b[0m             \u001b[1;34m'using'\u001b[0m\u001b[1;33m:\u001b[0m \u001b[0mby\u001b[0m\u001b[1;33m,\u001b[0m\u001b[1;33m\u001b[0m\u001b[1;33m\u001b[0m\u001b[0m\n\u001b[0;32m   1250\u001b[0m             'value': value})['value']\n",
      "\u001b[1;32m~\\Anaconda3\\lib\\site-packages\\selenium\\webdriver\\remote\\webdriver.py\u001b[0m in \u001b[0;36mexecute\u001b[1;34m(self, driver_command, params)\u001b[0m\n\u001b[0;32m    423\u001b[0m         \u001b[0mresponse\u001b[0m \u001b[1;33m=\u001b[0m \u001b[0mself\u001b[0m\u001b[1;33m.\u001b[0m\u001b[0mcommand_executor\u001b[0m\u001b[1;33m.\u001b[0m\u001b[0mexecute\u001b[0m\u001b[1;33m(\u001b[0m\u001b[0mdriver_command\u001b[0m\u001b[1;33m,\u001b[0m \u001b[0mparams\u001b[0m\u001b[1;33m)\u001b[0m\u001b[1;33m\u001b[0m\u001b[1;33m\u001b[0m\u001b[0m\n\u001b[0;32m    424\u001b[0m         \u001b[1;32mif\u001b[0m \u001b[0mresponse\u001b[0m\u001b[1;33m:\u001b[0m\u001b[1;33m\u001b[0m\u001b[1;33m\u001b[0m\u001b[0m\n\u001b[1;32m--> 425\u001b[1;33m             \u001b[0mself\u001b[0m\u001b[1;33m.\u001b[0m\u001b[0merror_handler\u001b[0m\u001b[1;33m.\u001b[0m\u001b[0mcheck_response\u001b[0m\u001b[1;33m(\u001b[0m\u001b[0mresponse\u001b[0m\u001b[1;33m)\u001b[0m\u001b[1;33m\u001b[0m\u001b[1;33m\u001b[0m\u001b[0m\n\u001b[0m\u001b[0;32m    426\u001b[0m             response['value'] = self._unwrap_value(\n\u001b[0;32m    427\u001b[0m                 response.get('value', None))\n",
      "\u001b[1;32m~\\Anaconda3\\lib\\site-packages\\selenium\\webdriver\\remote\\errorhandler.py\u001b[0m in \u001b[0;36mcheck_response\u001b[1;34m(self, response)\u001b[0m\n\u001b[0;32m    245\u001b[0m                 \u001b[0malert_text\u001b[0m \u001b[1;33m=\u001b[0m \u001b[0mvalue\u001b[0m\u001b[1;33m[\u001b[0m\u001b[1;34m'alert'\u001b[0m\u001b[1;33m]\u001b[0m\u001b[1;33m.\u001b[0m\u001b[0mget\u001b[0m\u001b[1;33m(\u001b[0m\u001b[1;34m'text'\u001b[0m\u001b[1;33m)\u001b[0m\u001b[1;33m\u001b[0m\u001b[1;33m\u001b[0m\u001b[0m\n\u001b[0;32m    246\u001b[0m             \u001b[1;32mraise\u001b[0m \u001b[0mexception_class\u001b[0m\u001b[1;33m(\u001b[0m\u001b[0mmessage\u001b[0m\u001b[1;33m,\u001b[0m \u001b[0mscreen\u001b[0m\u001b[1;33m,\u001b[0m \u001b[0mstacktrace\u001b[0m\u001b[1;33m,\u001b[0m \u001b[0malert_text\u001b[0m\u001b[1;33m)\u001b[0m  \u001b[1;31m# type: ignore[call-arg]  # mypy is not smart enough here\u001b[0m\u001b[1;33m\u001b[0m\u001b[1;33m\u001b[0m\u001b[0m\n\u001b[1;32m--> 247\u001b[1;33m         \u001b[1;32mraise\u001b[0m \u001b[0mexception_class\u001b[0m\u001b[1;33m(\u001b[0m\u001b[0mmessage\u001b[0m\u001b[1;33m,\u001b[0m \u001b[0mscreen\u001b[0m\u001b[1;33m,\u001b[0m \u001b[0mstacktrace\u001b[0m\u001b[1;33m)\u001b[0m\u001b[1;33m\u001b[0m\u001b[1;33m\u001b[0m\u001b[0m\n\u001b[0m\u001b[0;32m    248\u001b[0m \u001b[1;33m\u001b[0m\u001b[0m\n\u001b[0;32m    249\u001b[0m     \u001b[1;32mdef\u001b[0m \u001b[0m_value_or_default\u001b[0m\u001b[1;33m(\u001b[0m\u001b[0mself\u001b[0m\u001b[1;33m,\u001b[0m \u001b[0mobj\u001b[0m\u001b[1;33m:\u001b[0m \u001b[0mMapping\u001b[0m\u001b[1;33m[\u001b[0m\u001b[0m_KT\u001b[0m\u001b[1;33m,\u001b[0m \u001b[0m_VT\u001b[0m\u001b[1;33m]\u001b[0m\u001b[1;33m,\u001b[0m \u001b[0mkey\u001b[0m\u001b[1;33m:\u001b[0m \u001b[0m_KT\u001b[0m\u001b[1;33m,\u001b[0m \u001b[0mdefault\u001b[0m\u001b[1;33m:\u001b[0m \u001b[0m_VT\u001b[0m\u001b[1;33m)\u001b[0m \u001b[1;33m->\u001b[0m \u001b[0m_VT\u001b[0m\u001b[1;33m:\u001b[0m\u001b[1;33m\u001b[0m\u001b[1;33m\u001b[0m\u001b[0m\n",
      "\u001b[1;31mNoSuchElementException\u001b[0m: Message: no such element: Unable to locate element: {\"method\":\"xpath\",\"selector\":\"/html/body/div[2]/div[2]/div[3]/span/div/div/div/div[3]/button[2]/div\"}\n  (Session info: chrome=99.0.4844.82)\nStacktrace:\nBacktrace:\n\tOrdinal0 [0x00AB9943+2595139]\n\tOrdinal0 [0x00A4C9F1+2148849]\n\tOrdinal0 [0x00944528+1066280]\n\tOrdinal0 [0x00970FD4+1249236]\n\tOrdinal0 [0x009711CB+1249739]\n\tOrdinal0 [0x0099D812+1431570]\n\tOrdinal0 [0x0098BA34+1358388]\n\tOrdinal0 [0x0099BAF2+1424114]\n\tOrdinal0 [0x0098B806+1357830]\n\tOrdinal0 [0x00966086+1204358]\n\tOrdinal0 [0x00966F96+1208214]\n\tGetHandleVerifier [0x00C5B232+1658114]\n\tGetHandleVerifier [0x00D1312C+2411516]\n\tGetHandleVerifier [0x00B4F261+560433]\n\tGetHandleVerifier [0x00B4E366+556598]\n\tOrdinal0 [0x00A5286B+2173035]\n\tOrdinal0 [0x00A575F8+2192888]\n\tOrdinal0 [0x00A576E5+2193125]\n\tOrdinal0 [0x00A611FC+2232828]\n\tBaseThreadInitThunk [0x7664FA29+25]\n\tRtlGetAppContainerNamedObjectPath [0x76EC7A7E+286]\n\tRtlGetAppContainerNamedObjectPath [0x76EC7A4E+238]\n"
     ]
    }
   ],
   "source": [
    "from selenium.webdriver.chrome.options import Options\n",
    "from selenium.webdriver.common.keys import Keys\n",
    "driver = webdriver.Chrome('C:/Users/sjadviscok001/Downloads/chromedriver.exe')\n",
    "\n",
    "icka = []\n",
    "firm = []\n",
    "i = 0\n",
    "order = 0\n",
    "\n",
    "for i in companies:\n",
    "    driver.get('https://www.google.com/') \n",
    "    run_once = 0\n",
    "    while 1:\n",
    "        if run_once == 0:\n",
    "            agree = driver.find_element_by_xpath('/html/body/div[2]/div[2]/div[3]/span/div/div/div/div[3]/button[2]/div')\n",
    "            agree.click() \n",
    "            run_once = 1 \n",
    "        try: \n",
    "            search = driver.find_element_by_xpath(\"/html/body/div[1]/div[3]/form/div[1]/div[1]/div[1]/div/div[2]/input\")\n",
    "            search.send_keys(companies_ico[order])  \n",
    "            search.send_keys(Keys.RETURN) \n",
    "            firma = driver.find_element_by_tag_name('h3.LC20lb.MBeuO.DKV0Md')\n",
    "            firma.click()\n",
    "            icko = driver.find_element_by_tag_name('div.value.detailBusinessInfo')\n",
    "            icka.append(icko.text)\n",
    "            firms = driver.find_element_by_tag_name('h1.detailPrimaryTitle')\n",
    "            firm.append(firms.text)\n",
    "            driver.find_element_by_tag_name('body').send_keys(Keys.COMMAND + 't') \n",
    "            driver.get('https://www.google.com/')\n",
    "            order = order + 1\n",
    "            i =+ 1\n",
    "        except:\n",
    "            driver.get('https://www.google.com/')\n",
    "            order = order + 1\n",
    "            i =+ 1 \n",
    "        if order == len(companies):\n",
    "            break\n",
    "    \n",
    "                "
   ]
  },
  {
   "cell_type": "code",
   "execution_count": 22,
   "id": "5f435cf0",
   "metadata": {},
   "outputs": [
    {
     "data": {
      "text/plain": [
       "['05554942Více',\n",
       " '87040077Více',\n",
       " '72664398Více',\n",
       " '25117360Více',\n",
       " '04580451Více',\n",
       " '45691789Více',\n",
       " '26752352Více',\n",
       " '88139271Více',\n",
       " '09934855Více',\n",
       " '02891816Více',\n",
       " '09767720Více',\n",
       " '62909916Více',\n",
       " '25157345Více']"
      ]
     },
     "execution_count": 22,
     "metadata": {},
     "output_type": "execute_result"
    }
   ],
   "source": [
    "icka"
   ]
  },
  {
   "cell_type": "code",
   "execution_count": 23,
   "id": "d304fe19",
   "metadata": {},
   "outputs": [
    {
     "data": {
      "text/plain": [
       "['Zahradní restaurace MIMINOO',\n",
       " 'YoCafe',\n",
       " 'Pizzerie Pasta e Basta',\n",
       " 'Pizza Einstein',\n",
       " 'La Piazza',\n",
       " 'Pizza Mňam',\n",
       " 'Pizzeria Rustica',\n",
       " 'Pizzeria Vende Maria',\n",
       " 'Sasy The Originál',\n",
       " 'il capitano ristorante',\n",
       " 'Pizza di Praga',\n",
       " 'Pizzeria Aria',\n",
       " 'Pizzerie Redflower']"
      ]
     },
     "execution_count": 23,
     "metadata": {},
     "output_type": "execute_result"
    }
   ],
   "source": [
    "firm"
   ]
  },
  {
   "cell_type": "code",
   "execution_count": 24,
   "id": "cc57b2fc",
   "metadata": {},
   "outputs": [
    {
     "data": {
      "text/plain": [
       "['05554942',\n",
       " '87040077',\n",
       " '72664398',\n",
       " '25117360',\n",
       " '04580451',\n",
       " '45691789',\n",
       " '26752352',\n",
       " '88139271',\n",
       " '09934855',\n",
       " '02891816',\n",
       " '09767720',\n",
       " '62909916',\n",
       " '25157345']"
      ]
     },
     "execution_count": 24,
     "metadata": {},
     "output_type": "execute_result"
    }
   ],
   "source": [
    "icos = []\n",
    "p = 0\n",
    "for q in icka:\n",
    "    s = icka[p].replace('Více', '')\n",
    "    icos.append(s)\n",
    "    p = p + 1\n",
    "\n",
    "    \n",
    "icos  "
   ]
  },
  {
   "cell_type": "code",
   "execution_count": 17,
   "id": "cf325609",
   "metadata": {},
   "outputs": [],
   "source": [
    "f = pd.DataFrame(list(zip(firm, icos)), columns = ['Name', 'IČO'])"
   ]
  },
  {
   "cell_type": "code",
   "execution_count": 18,
   "id": "ffc0c58a",
   "metadata": {},
   "outputs": [
    {
     "data": {
      "text/html": [
       "<div>\n",
       "<style scoped>\n",
       "    .dataframe tbody tr th:only-of-type {\n",
       "        vertical-align: middle;\n",
       "    }\n",
       "\n",
       "    .dataframe tbody tr th {\n",
       "        vertical-align: top;\n",
       "    }\n",
       "\n",
       "    .dataframe thead th {\n",
       "        text-align: right;\n",
       "    }\n",
       "</style>\n",
       "<table border=\"1\" class=\"dataframe\">\n",
       "  <thead>\n",
       "    <tr style=\"text-align: right;\">\n",
       "      <th></th>\n",
       "      <th>Name</th>\n",
       "      <th>IČO</th>\n",
       "    </tr>\n",
       "  </thead>\n",
       "  <tbody>\n",
       "    <tr>\n",
       "      <th>0</th>\n",
       "      <td>Zahradní restaurace MIMINOO</td>\n",
       "      <td>05554942</td>\n",
       "    </tr>\n",
       "    <tr>\n",
       "      <th>1</th>\n",
       "      <td>YoCafe</td>\n",
       "      <td>87040077</td>\n",
       "    </tr>\n",
       "    <tr>\n",
       "      <th>2</th>\n",
       "      <td>Pizzerie Pasta e Basta</td>\n",
       "      <td>72664398</td>\n",
       "    </tr>\n",
       "    <tr>\n",
       "      <th>3</th>\n",
       "      <td>Pizza Einstein</td>\n",
       "      <td>25117360</td>\n",
       "    </tr>\n",
       "    <tr>\n",
       "      <th>4</th>\n",
       "      <td>La Piazza</td>\n",
       "      <td>04580451</td>\n",
       "    </tr>\n",
       "    <tr>\n",
       "      <th>5</th>\n",
       "      <td>Pizza Mňam</td>\n",
       "      <td>45691789</td>\n",
       "    </tr>\n",
       "    <tr>\n",
       "      <th>6</th>\n",
       "      <td>Pizzeria Rustica</td>\n",
       "      <td>26752352</td>\n",
       "    </tr>\n",
       "    <tr>\n",
       "      <th>7</th>\n",
       "      <td>Pizzeria Vende Maria</td>\n",
       "      <td>88139271</td>\n",
       "    </tr>\n",
       "    <tr>\n",
       "      <th>8</th>\n",
       "      <td>Sasy The Originál</td>\n",
       "      <td>09934855</td>\n",
       "    </tr>\n",
       "    <tr>\n",
       "      <th>9</th>\n",
       "      <td>il capitano ristorante</td>\n",
       "      <td>02891816</td>\n",
       "    </tr>\n",
       "    <tr>\n",
       "      <th>10</th>\n",
       "      <td>Pizza di Praga</td>\n",
       "      <td>09767720</td>\n",
       "    </tr>\n",
       "    <tr>\n",
       "      <th>11</th>\n",
       "      <td>Pizzeria Aria</td>\n",
       "      <td>62909916</td>\n",
       "    </tr>\n",
       "    <tr>\n",
       "      <th>12</th>\n",
       "      <td>Pizzerie Redflower</td>\n",
       "      <td>25157345</td>\n",
       "    </tr>\n",
       "  </tbody>\n",
       "</table>\n",
       "</div>"
      ],
      "text/plain": [
       "                           Name       IČO\n",
       "0   Zahradní restaurace MIMINOO  05554942\n",
       "1                        YoCafe  87040077\n",
       "2        Pizzerie Pasta e Basta  72664398\n",
       "3                Pizza Einstein  25117360\n",
       "4                     La Piazza  04580451\n",
       "5                    Pizza Mňam  45691789\n",
       "6              Pizzeria Rustica  26752352\n",
       "7          Pizzeria Vende Maria  88139271\n",
       "8             Sasy The Originál  09934855\n",
       "9        il capitano ristorante  02891816\n",
       "10               Pizza di Praga  09767720\n",
       "11                Pizzeria Aria  62909916\n",
       "12           Pizzerie Redflower  25157345"
      ]
     },
     "execution_count": 18,
     "metadata": {},
     "output_type": "execute_result"
    }
   ],
   "source": [
    "f"
   ]
  },
  {
   "cell_type": "code",
   "execution_count": 164,
   "id": "86ac3f95",
   "metadata": {},
   "outputs": [],
   "source": [
    "f.to_excel(r'C:/Users/sjadviscok001/Downloads/Name.xlsx', index = False)"
   ]
  }
 ],
 "metadata": {
  "kernelspec": {
   "display_name": "Python 3 (ipykernel)",
   "language": "python",
   "name": "python3"
  },
  "language_info": {
   "codemirror_mode": {
    "name": "ipython",
    "version": 3
   },
   "file_extension": ".py",
   "mimetype": "text/x-python",
   "name": "python",
   "nbconvert_exporter": "python",
   "pygments_lexer": "ipython3",
   "version": "3.9.7"
  }
 },
 "nbformat": 4,
 "nbformat_minor": 5
}
