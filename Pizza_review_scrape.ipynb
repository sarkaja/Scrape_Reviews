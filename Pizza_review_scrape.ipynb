{
 "cells": [
  {
   "cell_type": "code",
   "execution_count": null,
   "id": "48f29a92",
   "metadata": {},
   "outputs": [],
   "source": [
    "pip install selenium"
   ]
  },
  {
   "cell_type": "code",
   "execution_count": 50,
   "id": "1da06c2e",
   "metadata": {},
   "outputs": [
    {
     "name": "stderr",
     "output_type": "stream",
     "text": [
      "C:\\Users\\SJADVI~1\\AppData\\Local\\Temp/ipykernel_18736/259469644.py:4: DeprecationWarning: executable_path has been deprecated, please pass in a Service object\n",
      "  driver = webdriver.Chrome('C:/Users/sjadviscok001/Downloads/chromedriver.exe')\n"
     ]
    },
    {
     "name": "stdout",
     "output_type": "stream",
     "text": [
      "Veřejný rejstřík a Sbírka listin - Ministerstvo spravedlnosti České republiky\n"
     ]
    }
   ],
   "source": [
    "from selenium import webdriver\n",
    "from selenium.webdriver.common.keys import Keys\n",
    "import pandas as pd\n",
    "driver = webdriver.Chrome('C:/Users/sjadviscok001/Downloads/chromedriver.exe')\n",
    "driver.get(\"https://or.justice.cz/ias/ui/rejstrik\")\n",
    "print(driver.title)"
   ]
  },
  {
   "cell_type": "code",
   "execution_count": 53,
   "id": "e5cc1a8d",
   "metadata": {},
   "outputs": [],
   "source": [
    "from selenium import webdriver\n",
    "from selenium.webdriver.common.by import By\n",
    "from selenium.webdriver.common.keys import Keys\n"
   ]
  },
  {
   "cell_type": "code",
   "execution_count": 92,
   "id": "77170cc4",
   "metadata": {},
   "outputs": [
    {
     "name": "stderr",
     "output_type": "stream",
     "text": [
      "C:\\Users\\SJADVI~1\\AppData\\Local\\Temp/ipykernel_18736/971001587.py:1: DeprecationWarning: executable_path has been deprecated, please pass in a Service object\n",
      "  driver = webdriver.Chrome('C:/Users/sjadviscok001/Downloads/chromedriver.exe')\n",
      "C:\\Users\\SJADVI~1\\AppData\\Local\\Temp/ipykernel_18736/971001587.py:3: DeprecationWarning: find_elements_by_tag_name is deprecated. Please use find_elements(by=By.TAG_NAME, value=name) instead\n",
      "  load = driver.find_elements_by_tag_name('a.companyTitle.statCompanyDetail')\n"
     ]
    },
    {
     "name": "stdout",
     "output_type": "stream",
     "text": [
      "['Pizzerie Pasta e Basta', 'La Piazza', 'Pizza Einstein', 'Pizza Mňam', 'Pizzeria Rustica', 'Pizzeria Vende Maria', 'Sasy The Originál', 'Pizza Lab', 'Zahradní restaurace MIMINOO', 'Pizza di Praga', 'Pizzeria Aria', 'Pizzerie Redflower', 'AMUNÌ Slow Food Pizza', 'YoCafe']\n"
     ]
    }
   ],
   "source": [
    "driver = webdriver.Chrome('C:/Users/sjadviscok001/Downloads/chromedriver.exe')\n",
    "driver.get('https://www.firmy.cz/Restauracni-a-pohostinske-sluzby/Restaurace/Pizzerie?x=14.4425083333&y=50.0840777778&rt=ulice&sort=nejblizsi')\n",
    "load = driver.find_elements_by_tag_name('a.companyTitle.statCompanyDetail')\n",
    "\n",
    "companies = []\n",
    "\n",
    "for company in load:\n",
    "    companies.append(company.text)\n",
    "    \n",
    "driver.quit()\n",
    "print(companies)"
   ]
  },
  {
   "cell_type": "code",
   "execution_count": 65,
   "id": "cbe87011",
   "metadata": {},
   "outputs": [],
   "source": [
    "companiesx = []\n",
    "i = 0\n",
    "\n",
    "for h in companies:\n",
    "    companiesx.append(companies[i] + \" Praha 3\")\n",
    "    i = i+ 1"
   ]
  },
  {
   "cell_type": "code",
   "execution_count": 66,
   "id": "cab67df1",
   "metadata": {},
   "outputs": [
    {
     "data": {
      "text/plain": [
       "'Pizza Einstein Praha 3'"
      ]
     },
     "execution_count": 66,
     "metadata": {},
     "output_type": "execute_result"
    }
   ],
   "source": [
    "companiesx[2]"
   ]
  },
  {
   "cell_type": "code",
   "execution_count": 93,
   "id": "bd230f83",
   "metadata": {},
   "outputs": [
    {
     "name": "stderr",
     "output_type": "stream",
     "text": [
      "C:\\Users\\SJADVI~1\\AppData\\Local\\Temp/ipykernel_18736/2441520886.py:3: DeprecationWarning: executable_path has been deprecated, please pass in a Service object\n",
      "  driver = webdriver.Chrome('C:/Users/sjadviscok001/Downloads/chromedriver.exe')\n",
      "C:\\Users\\SJADVI~1\\AppData\\Local\\Temp/ipykernel_18736/2441520886.py:17: DeprecationWarning: find_element_by_xpath is deprecated. Please use find_element(by=By.XPATH, value=xpath) instead\n",
      "  agree = driver.find_element_by_xpath('/html/body/div[2]/div[2]/div[3]/span/div/div/div/div[3]/button[2]/div')\n",
      "C:\\Users\\SJADVI~1\\AppData\\Local\\Temp/ipykernel_18736/2441520886.py:20: DeprecationWarning: find_element_by_xpath is deprecated. Please use find_element(by=By.XPATH, value=xpath) instead\n",
      "  search = driver.find_element_by_xpath(\"/html/body/div[1]/div[3]/form/div[1]/div[1]/div[1]/div/div[2]/input\")\n",
      "C:\\Users\\SJADVI~1\\AppData\\Local\\Temp/ipykernel_18736/2441520886.py:23: DeprecationWarning: find_element_by_tag_name is deprecated. Please use find_element(by=By.TAG_NAME, value=name) instead\n",
      "  gstars = driver.find_element_by_tag_name('span.Aq14fc')\n",
      "C:\\Users\\SJADVI~1\\AppData\\Local\\Temp/ipykernel_18736/2441520886.py:25: DeprecationWarning: find_element_by_tag_name is deprecated. Please use find_element(by=By.TAG_NAME, value=name) instead\n",
      "  greviews = driver.find_element_by_tag_name('span.hqzQac')\n",
      "C:\\Users\\SJADVI~1\\AppData\\Local\\Temp/ipykernel_18736/2441520886.py:27: DeprecationWarning: find_element_by_tag_name is deprecated. Please use find_element(by=By.TAG_NAME, value=name) instead\n",
      "  zstars = driver.find_element_by_tag_name('span.inaKse.G5rmf')\n",
      "C:\\Users\\SJADVI~1\\AppData\\Local\\Temp/ipykernel_18736/2441520886.py:29: DeprecationWarning: find_element_by_tag_name is deprecated. Please use find_element(by=By.TAG_NAME, value=name) instead\n",
      "  zreviews = driver.find_element_by_tag_name('span.inaKse.KM6XSd')\n",
      "C:\\Users\\SJADVI~1\\AppData\\Local\\Temp/ipykernel_18736/2441520886.py:33: DeprecationWarning: find_element_by_xpath is deprecated. Please use find_element(by=By.XPATH, value=xpath) instead\n",
      "  gol = driver.find_element_by_xpath('//*[@id=\"logo\"]/img')\n"
     ]
    },
    {
     "ename": "IndexError",
     "evalue": "list index out of range",
     "output_type": "error",
     "traceback": [
      "\u001b[1;31m---------------------------------------------------------------------------\u001b[0m",
      "\u001b[1;31mIndexError\u001b[0m                                Traceback (most recent call last)",
      "\u001b[1;32mC:\\Users\\SJADVI~1\\AppData\\Local\\Temp/ipykernel_18736/2441520886.py\u001b[0m in \u001b[0;36m<module>\u001b[1;34m\u001b[0m\n\u001b[0;32m     19\u001b[0m                 \u001b[0mrun_once\u001b[0m \u001b[1;33m=\u001b[0m \u001b[1;36m1\u001b[0m\u001b[1;33m\u001b[0m\u001b[1;33m\u001b[0m\u001b[0m\n\u001b[0;32m     20\u001b[0m             \u001b[0msearch\u001b[0m \u001b[1;33m=\u001b[0m \u001b[0mdriver\u001b[0m\u001b[1;33m.\u001b[0m\u001b[0mfind_element_by_xpath\u001b[0m\u001b[1;33m(\u001b[0m\u001b[1;34m\"/html/body/div[1]/div[3]/form/div[1]/div[1]/div[1]/div/div[2]/input\"\u001b[0m\u001b[1;33m)\u001b[0m\u001b[1;33m\u001b[0m\u001b[1;33m\u001b[0m\u001b[0m\n\u001b[1;32m---> 21\u001b[1;33m             \u001b[0msearch\u001b[0m\u001b[1;33m.\u001b[0m\u001b[0msend_keys\u001b[0m\u001b[1;33m(\u001b[0m\u001b[0mcompaniesx\u001b[0m\u001b[1;33m[\u001b[0m\u001b[0morder\u001b[0m\u001b[1;33m]\u001b[0m\u001b[1;33m)\u001b[0m\u001b[1;33m\u001b[0m\u001b[1;33m\u001b[0m\u001b[0m\n\u001b[0m\u001b[0;32m     22\u001b[0m             \u001b[0msearch\u001b[0m\u001b[1;33m.\u001b[0m\u001b[0msend_keys\u001b[0m\u001b[1;33m(\u001b[0m\u001b[0mKeys\u001b[0m\u001b[1;33m.\u001b[0m\u001b[0mRETURN\u001b[0m\u001b[1;33m)\u001b[0m\u001b[1;33m\u001b[0m\u001b[1;33m\u001b[0m\u001b[0m\n\u001b[0;32m     23\u001b[0m             \u001b[0mgstars\u001b[0m \u001b[1;33m=\u001b[0m \u001b[0mdriver\u001b[0m\u001b[1;33m.\u001b[0m\u001b[0mfind_element_by_tag_name\u001b[0m\u001b[1;33m(\u001b[0m\u001b[1;34m'span.Aq14fc'\u001b[0m\u001b[1;33m)\u001b[0m\u001b[1;33m\u001b[0m\u001b[1;33m\u001b[0m\u001b[0m\n",
      "\u001b[1;31mIndexError\u001b[0m: list index out of range"
     ]
    }
   ],
   "source": [
    "from selenium.webdriver.chrome.options import Options\n",
    "from selenium.webdriver.common.keys import Keys\n",
    "driver = webdriver.Chrome('C:/Users/sjadviscok001/Downloads/chromedriver.exe')\n",
    "\n",
    "stars_google = []\n",
    "number_of_reviews_google = []\n",
    "stars_zomato = []\n",
    "number_of_reviews_zomato = []\n",
    "i = 0\n",
    "order = 0\n",
    "\n",
    "for i in companies:\n",
    "    driver.get('https://www.google.com/') \n",
    "    run_once = 0\n",
    "    while 1:\n",
    "            if run_once == 0:\n",
    "                agree = driver.find_element_by_xpath('/html/body/div[2]/div[2]/div[3]/span/div/div/div/div[3]/button[2]/div')\n",
    "                agree.click() \n",
    "                run_once = 1 \n",
    "            search = driver.find_element_by_xpath(\"/html/body/div[1]/div[3]/form/div[1]/div[1]/div[1]/div/div[2]/input\")\n",
    "            search.send_keys(companiesx[order])  \n",
    "            search.send_keys(Keys.RETURN) \n",
    "            gstars = driver.find_element_by_tag_name('span.Aq14fc')\n",
    "            stars_google.append(gstars.text)\n",
    "            greviews = driver.find_element_by_tag_name('span.hqzQac')\n",
    "            number_of_reviews_google.append(greviews.text)\n",
    "            zstars = driver.find_element_by_tag_name('span.inaKse.G5rmf')\n",
    "            stars_zomato.append(zstars.text)\n",
    "            zreviews = driver.find_element_by_tag_name('span.inaKse.KM6XSd')\n",
    "            number_of_reviews_zomato.append(zreviews.text)\n",
    "            order = order + 1\n",
    "            i =+ 1\n",
    "            gol = driver.find_element_by_xpath('//*[@id=\"logo\"]/img')\n",
    "            gol.click()\n",
    "         \n"
   ]
  },
  {
   "cell_type": "code",
   "execution_count": 51,
   "id": "41a810f7",
   "metadata": {},
   "outputs": [],
   "source": [
    "df = pd.DataFrame(list(zip(companies, stars_google, number_of_reviews_google, stars_zomato,number_of_reviews_zomato)),\n",
    "               columns =['Name', 'Google Stars', 'Number of Reviews on Google', 'Zomato Stars', 'Number of Reviews on Zomato'])"
   ]
  },
  {
   "cell_type": "code",
   "execution_count": 52,
   "id": "c740cac7",
   "metadata": {},
   "outputs": [
    {
     "data": {
      "text/html": [
       "<div>\n",
       "<style scoped>\n",
       "    .dataframe tbody tr th:only-of-type {\n",
       "        vertical-align: middle;\n",
       "    }\n",
       "\n",
       "    .dataframe tbody tr th {\n",
       "        vertical-align: top;\n",
       "    }\n",
       "\n",
       "    .dataframe thead th {\n",
       "        text-align: right;\n",
       "    }\n",
       "</style>\n",
       "<table border=\"1\" class=\"dataframe\">\n",
       "  <thead>\n",
       "    <tr style=\"text-align: right;\">\n",
       "      <th></th>\n",
       "      <th>Name</th>\n",
       "      <th>Google Stars</th>\n",
       "      <th>Number of Reviews on Google</th>\n",
       "      <th>Zomato Stars</th>\n",
       "      <th>Number of Reviews on Zomato</th>\n",
       "    </tr>\n",
       "  </thead>\n",
       "  <tbody>\n",
       "    <tr>\n",
       "      <th>0</th>\n",
       "      <td>Pizzerie Pasta e Basta</td>\n",
       "      <td>4,0</td>\n",
       "      <td>216 recenzí Google</td>\n",
       "      <td>3,7/5</td>\n",
       "      <td>· 4 hlasy</td>\n",
       "    </tr>\n",
       "    <tr>\n",
       "      <th>1</th>\n",
       "      <td>La Piazza</td>\n",
       "      <td>3,6</td>\n",
       "      <td>96 recenzí Google</td>\n",
       "      <td>4/5</td>\n",
       "      <td>· 35 hlasů</td>\n",
       "    </tr>\n",
       "    <tr>\n",
       "      <th>2</th>\n",
       "      <td>Pizza Einstein</td>\n",
       "      <td>3,8</td>\n",
       "      <td>977 recenzí Google</td>\n",
       "      <td>4,3/5</td>\n",
       "      <td>11 hlasů</td>\n",
       "    </tr>\n",
       "    <tr>\n",
       "      <th>3</th>\n",
       "      <td>Pizza Mňam</td>\n",
       "      <td>4,0</td>\n",
       "      <td>114 recenzí Google</td>\n",
       "      <td>100 %</td>\n",
       "      <td>1 hlas</td>\n",
       "    </tr>\n",
       "    <tr>\n",
       "      <th>4</th>\n",
       "      <td>Pizzeria Rustica</td>\n",
       "      <td>4,2</td>\n",
       "      <td>837 recenzí Google</td>\n",
       "      <td>4,1/5</td>\n",
       "      <td>64 hlasů</td>\n",
       "    </tr>\n",
       "    <tr>\n",
       "      <th>5</th>\n",
       "      <td>Pizzeria Vende Maria</td>\n",
       "      <td>4,3</td>\n",
       "      <td>575 recenzí Google</td>\n",
       "      <td>3,8/5</td>\n",
       "      <td>13 hlasů</td>\n",
       "    </tr>\n",
       "    <tr>\n",
       "      <th>6</th>\n",
       "      <td>Sasy The Originál</td>\n",
       "      <td>4,9</td>\n",
       "      <td>119 recenzí Google</td>\n",
       "      <td>4,6/5</td>\n",
       "      <td>9 hlasů</td>\n",
       "    </tr>\n",
       "    <tr>\n",
       "      <th>7</th>\n",
       "      <td>Pizza Lab</td>\n",
       "      <td>4,3</td>\n",
       "      <td>113 recenzí Google</td>\n",
       "      <td>9/10</td>\n",
       "      <td>· 200 hlasů</td>\n",
       "    </tr>\n",
       "    <tr>\n",
       "      <th>8</th>\n",
       "      <td>Zahradní restaurace MIMINOO</td>\n",
       "      <td>3,9</td>\n",
       "      <td>740 recenzí Google</td>\n",
       "      <td>4,4/5</td>\n",
       "      <td>207 hlasů</td>\n",
       "    </tr>\n",
       "    <tr>\n",
       "      <th>9</th>\n",
       "      <td>il capitano ristorante</td>\n",
       "      <td>4,2</td>\n",
       "      <td>891 recenzí Google</td>\n",
       "      <td>4,5/5</td>\n",
       "      <td>186 hlasů</td>\n",
       "    </tr>\n",
       "    <tr>\n",
       "      <th>10</th>\n",
       "      <td>Pizza di Praga</td>\n",
       "      <td>4,0</td>\n",
       "      <td>53 recenzí Google</td>\n",
       "      <td>4/5</td>\n",
       "      <td>4 hlasy</td>\n",
       "    </tr>\n",
       "    <tr>\n",
       "      <th>11</th>\n",
       "      <td>Pizzeria Aria</td>\n",
       "      <td>4,2</td>\n",
       "      <td>442 recenzí Google</td>\n",
       "      <td>3,8/5</td>\n",
       "      <td>13 hlasů</td>\n",
       "    </tr>\n",
       "    <tr>\n",
       "      <th>12</th>\n",
       "      <td>Pizzerie Redflower</td>\n",
       "      <td>4,3</td>\n",
       "      <td>446 recenzí Google</td>\n",
       "      <td>100 %</td>\n",
       "      <td>2 hlasy</td>\n",
       "    </tr>\n",
       "    <tr>\n",
       "      <th>13</th>\n",
       "      <td>AMUNÌ Slow Food Pizza</td>\n",
       "      <td>4,7</td>\n",
       "      <td>496 recenzí Google</td>\n",
       "      <td>50 %</td>\n",
       "      <td>2 hlasy</td>\n",
       "    </tr>\n",
       "  </tbody>\n",
       "</table>\n",
       "</div>"
      ],
      "text/plain": [
       "                           Name Google Stars Number of Reviews on Google  \\\n",
       "0        Pizzerie Pasta e Basta          4,0          216 recenzí Google   \n",
       "1                     La Piazza          3,6           96 recenzí Google   \n",
       "2                Pizza Einstein          3,8          977 recenzí Google   \n",
       "3                    Pizza Mňam          4,0          114 recenzí Google   \n",
       "4              Pizzeria Rustica          4,2          837 recenzí Google   \n",
       "5          Pizzeria Vende Maria          4,3          575 recenzí Google   \n",
       "6             Sasy The Originál          4,9          119 recenzí Google   \n",
       "7                     Pizza Lab          4,3          113 recenzí Google   \n",
       "8   Zahradní restaurace MIMINOO          3,9          740 recenzí Google   \n",
       "9        il capitano ristorante          4,2          891 recenzí Google   \n",
       "10               Pizza di Praga          4,0           53 recenzí Google   \n",
       "11                Pizzeria Aria          4,2          442 recenzí Google   \n",
       "12           Pizzerie Redflower          4,3          446 recenzí Google   \n",
       "13        AMUNÌ Slow Food Pizza          4,7          496 recenzí Google   \n",
       "\n",
       "   Zomato Stars Number of Reviews on Zomato  \n",
       "0         3,7/5                   · 4 hlasy  \n",
       "1           4/5                  · 35 hlasů  \n",
       "2         4,3/5                    11 hlasů  \n",
       "3         100 %                      1 hlas  \n",
       "4         4,1/5                    64 hlasů  \n",
       "5         3,8/5                    13 hlasů  \n",
       "6         4,6/5                     9 hlasů  \n",
       "7          9/10                 · 200 hlasů  \n",
       "8         4,4/5                   207 hlasů  \n",
       "9         4,5/5                   186 hlasů  \n",
       "10          4/5                     4 hlasy  \n",
       "11        3,8/5                    13 hlasů  \n",
       "12        100 %                     2 hlasy  \n",
       "13         50 %                     2 hlasy  "
      ]
     },
     "execution_count": 52,
     "metadata": {},
     "output_type": "execute_result"
    }
   ],
   "source": [
    "df"
   ]
  },
  {
   "cell_type": "code",
   "execution_count": 102,
   "id": "5f9b02af",
   "metadata": {},
   "outputs": [],
   "source": [
    "companies_ico = []\n",
    "i = 0\n",
    "\n",
    "for h in companiesx:\n",
    "    companies_ico.append(\"firmy.cz detail \" + companiesx[i])\n",
    "    i = i+ 1"
   ]
  },
  {
   "cell_type": "code",
   "execution_count": 103,
   "id": "36f6b143",
   "metadata": {},
   "outputs": [
    {
     "data": {
      "text/plain": [
       "['firmy.cz detail Pizzerie Pasta e Basta Praha 3',\n",
       " 'firmy.cz detail La Piazza Praha 3',\n",
       " 'firmy.cz detail Pizza Einstein Praha 3',\n",
       " 'firmy.cz detail Pizza Mňam Praha 3',\n",
       " 'firmy.cz detail Pizzeria Rustica Praha 3',\n",
       " 'firmy.cz detail Pizzeria Vende Maria Praha 3',\n",
       " 'firmy.cz detail Sasy The Originál Praha 3',\n",
       " 'firmy.cz detail Pizza Lab Praha 3',\n",
       " 'firmy.cz detail Zahradní restaurace MIMINOO Praha 3',\n",
       " 'firmy.cz detail il capitano ristorante Praha 3',\n",
       " 'firmy.cz detail Pizza di Praga Praha 3',\n",
       " 'firmy.cz detail Pizzeria Aria Praha 3',\n",
       " 'firmy.cz detail Pizzerie Redflower Praha 3',\n",
       " 'firmy.cz detail AMUNÌ Slow Food Pizza Praha 3']"
      ]
     },
     "execution_count": 103,
     "metadata": {},
     "output_type": "execute_result"
    }
   ],
   "source": [
    "companies_ico"
   ]
  },
  {
   "cell_type": "code",
   "execution_count": 106,
   "id": "7a0ea74e",
   "metadata": {},
   "outputs": [
    {
     "data": {
      "text/plain": [
       "['firmy.cz detail Pizzerie Pasta e Basta Praha 3',\n",
       " 'firmy.cz detail La Piazza Praha 3',\n",
       " 'firmy.cz detail Pizza Einstein Praha 3',\n",
       " 'firmy.cz detail Pizzeria Rustica Praha 3',\n",
       " 'firmy.cz detail Pizzeria Vende Maria Praha 3',\n",
       " 'firmy.cz detail Sasy The Originál Praha 3',\n",
       " 'firmy.cz detail Zahradní restaurace MIMINOO Praha 3',\n",
       " 'firmy.cz detail il capitano ristorante Praha 3',\n",
       " 'firmy.cz detail Pizza di Praga Praha 3',\n",
       " 'firmy.cz detail Pizzeria Aria Praha 3',\n",
       " 'firmy.cz detail Pizzerie Redflower Praha 3',\n",
       " 'firmy.cz detail AMUNÌ Slow Food Pizza Praha 3']"
      ]
     },
     "execution_count": 106,
     "metadata": {},
     "output_type": "execute_result"
    }
   ],
   "source": [
    "del companies_ico[6]\n",
    "companies_ico"
   ]
  },
  {
   "cell_type": "code",
   "execution_count": 108,
   "id": "20e945e1",
   "metadata": {},
   "outputs": [
    {
     "data": {
      "text/plain": [
       "['firmy.cz detail Pizzerie Pasta e Basta Praha 3',\n",
       " 'firmy.cz detail La Piazza Praha 3',\n",
       " 'firmy.cz detail Pizza Einstein Praha 3',\n",
       " 'firmy.cz detail Pizzeria Rustica Praha 3',\n",
       " 'firmy.cz detail Pizzeria Vende Maria Praha 3',\n",
       " 'firmy.cz detail Sasy The Originál Praha 3',\n",
       " 'firmy.cz detail Zahradní restaurace MIMINOO Praha 3',\n",
       " 'firmy.cz detail il capitano ristorante Praha 3',\n",
       " 'firmy.cz detail Pizza di Praga Praha 3',\n",
       " 'firmy.cz detail Pizzerie Redflower Praha 3',\n",
       " 'firmy.cz detail AMUNÌ Slow Food Pizza Praha 3']"
      ]
     },
     "execution_count": 108,
     "metadata": {},
     "output_type": "execute_result"
    }
   ],
   "source": [
    "del companies_ico[9]\n",
    "companies_ico"
   ]
  },
  {
   "cell_type": "code",
   "execution_count": 113,
   "id": "636e38cb",
   "metadata": {},
   "outputs": [
    {
     "name": "stderr",
     "output_type": "stream",
     "text": [
      "C:\\Users\\SJADVI~1\\AppData\\Local\\Temp/ipykernel_18736/446185987.py:3: DeprecationWarning: executable_path has been deprecated, please pass in a Service object\n",
      "  driver = webdriver.Chrome('C:/Users/sjadviscok001/Downloads/chromedriver.exe')\n",
      "C:\\Users\\SJADVI~1\\AppData\\Local\\Temp/ipykernel_18736/446185987.py:14: DeprecationWarning: find_element_by_xpath is deprecated. Please use find_element(by=By.XPATH, value=xpath) instead\n",
      "  agree = driver.find_element_by_xpath('/html/body/div[2]/div[2]/div[3]/span/div/div/div/div[3]/button[2]/div')\n",
      "C:\\Users\\SJADVI~1\\AppData\\Local\\Temp/ipykernel_18736/446185987.py:17: DeprecationWarning: find_element_by_xpath is deprecated. Please use find_element(by=By.XPATH, value=xpath) instead\n",
      "  search = driver.find_element_by_xpath(\"/html/body/div[1]/div[3]/form/div[1]/div[1]/div[1]/div/div[2]/input\")\n",
      "C:\\Users\\SJADVI~1\\AppData\\Local\\Temp/ipykernel_18736/446185987.py:20: DeprecationWarning: find_element_by_tag_name is deprecated. Please use find_element(by=By.TAG_NAME, value=name) instead\n",
      "  firma = driver.find_element_by_tag_name('h3.LC20lb.MBeuO.DKV0Md')\n",
      "C:\\Users\\SJADVI~1\\AppData\\Local\\Temp/ipykernel_18736/446185987.py:23: DeprecationWarning: find_element_by_tag_name is deprecated. Please use find_element(by=By.TAG_NAME, value=name) instead\n",
      "  icko = driver.find_element_by_tag_name('div.value.detailBusinessInfo')\n",
      "C:\\Users\\SJADVI~1\\AppData\\Local\\Temp/ipykernel_18736/446185987.py:28: DeprecationWarning: find_element_by_tag_name is deprecated. Please use find_element(by=By.TAG_NAME, value=name) instead\n",
      "  driver.find_element_by_tag_name('body').send_keys(Keys.COMMAND + 't')\n"
     ]
    },
    {
     "ename": "IndexError",
     "evalue": "list index out of range",
     "output_type": "error",
     "traceback": [
      "\u001b[1;31m---------------------------------------------------------------------------\u001b[0m",
      "\u001b[1;31mIndexError\u001b[0m                                Traceback (most recent call last)",
      "\u001b[1;32mC:\\Users\\SJADVI~1\\AppData\\Local\\Temp/ipykernel_18736/446185987.py\u001b[0m in \u001b[0;36m<module>\u001b[1;34m\u001b[0m\n\u001b[0;32m     16\u001b[0m                 \u001b[0mrun_once\u001b[0m \u001b[1;33m=\u001b[0m \u001b[1;36m1\u001b[0m\u001b[1;33m\u001b[0m\u001b[1;33m\u001b[0m\u001b[0m\n\u001b[0;32m     17\u001b[0m             \u001b[0msearch\u001b[0m \u001b[1;33m=\u001b[0m \u001b[0mdriver\u001b[0m\u001b[1;33m.\u001b[0m\u001b[0mfind_element_by_xpath\u001b[0m\u001b[1;33m(\u001b[0m\u001b[1;34m\"/html/body/div[1]/div[3]/form/div[1]/div[1]/div[1]/div/div[2]/input\"\u001b[0m\u001b[1;33m)\u001b[0m\u001b[1;33m\u001b[0m\u001b[1;33m\u001b[0m\u001b[0m\n\u001b[1;32m---> 18\u001b[1;33m             \u001b[0msearch\u001b[0m\u001b[1;33m.\u001b[0m\u001b[0msend_keys\u001b[0m\u001b[1;33m(\u001b[0m\u001b[0mcompanies_ico\u001b[0m\u001b[1;33m[\u001b[0m\u001b[0morder\u001b[0m\u001b[1;33m]\u001b[0m\u001b[1;33m)\u001b[0m\u001b[1;33m\u001b[0m\u001b[1;33m\u001b[0m\u001b[0m\n\u001b[0m\u001b[0;32m     19\u001b[0m             \u001b[0msearch\u001b[0m\u001b[1;33m.\u001b[0m\u001b[0msend_keys\u001b[0m\u001b[1;33m(\u001b[0m\u001b[0mKeys\u001b[0m\u001b[1;33m.\u001b[0m\u001b[0mRETURN\u001b[0m\u001b[1;33m)\u001b[0m\u001b[1;33m\u001b[0m\u001b[1;33m\u001b[0m\u001b[0m\n\u001b[0;32m     20\u001b[0m             \u001b[0mfirma\u001b[0m \u001b[1;33m=\u001b[0m \u001b[0mdriver\u001b[0m\u001b[1;33m.\u001b[0m\u001b[0mfind_element_by_tag_name\u001b[0m\u001b[1;33m(\u001b[0m\u001b[1;34m'h3.LC20lb.MBeuO.DKV0Md'\u001b[0m\u001b[1;33m)\u001b[0m\u001b[1;33m\u001b[0m\u001b[1;33m\u001b[0m\u001b[0m\n",
      "\u001b[1;31mIndexError\u001b[0m: list index out of range"
     ]
    }
   ],
   "source": [
    "from selenium.webdriver.chrome.options import Options\n",
    "from selenium.webdriver.common.keys import Keys\n",
    "driver = webdriver.Chrome('C:/Users/sjadviscok001/Downloads/chromedriver.exe')\n",
    "\n",
    "icka = []\n",
    "i = 0\n",
    "order = 0\n",
    "\n",
    "for i in companies:\n",
    "    driver.get('https://www.google.com/') \n",
    "    run_once = 0\n",
    "    while 1:\n",
    "            if run_once == 0:\n",
    "                agree = driver.find_element_by_xpath('/html/body/div[2]/div[2]/div[3]/span/div/div/div/div[3]/button[2]/div')\n",
    "                agree.click() \n",
    "                run_once = 1 \n",
    "            search = driver.find_element_by_xpath(\"/html/body/div[1]/div[3]/form/div[1]/div[1]/div[1]/div/div[2]/input\")\n",
    "            search.send_keys(companies_ico[order])  \n",
    "            search.send_keys(Keys.RETURN) \n",
    "            firma = driver.find_element_by_tag_name('h3.LC20lb.MBeuO.DKV0Md')\n",
    "            firma.click()\n",
    "            \n",
    "            icko = driver.find_element_by_tag_name('div.value.detailBusinessInfo')\n",
    "            icka.append(icko.text)\n",
    "           \n",
    "            order = order + 1\n",
    "            i =+ 1\n",
    "            driver.find_element_by_tag_name('body').send_keys(Keys.COMMAND + 't') \n",
    "            driver.get('https://www.google.com/')\n",
    "        \n",
    "            "
   ]
  },
  {
   "cell_type": "code",
   "execution_count": 110,
   "id": "9eeb06a5",
   "metadata": {},
   "outputs": [
    {
     "data": {
      "text/plain": [
       "['72664398Více',\n",
       " '04580451Více',\n",
       " '25117360Více',\n",
       " '26752352Více',\n",
       " '88139271Více',\n",
       " '09934855Více',\n",
       " '05554942Více',\n",
       " '02891816Více',\n",
       " '09767720Více',\n",
       " '25157345Více',\n",
       " '05773717Více']"
      ]
     },
     "execution_count": 110,
     "metadata": {},
     "output_type": "execute_result"
    }
   ],
   "source": [
    "icka "
   ]
  },
  {
   "cell_type": "code",
   "execution_count": 112,
   "id": "5288965b",
   "metadata": {},
   "outputs": [
    {
     "data": {
      "text/plain": [
       "'04580451'"
      ]
     },
     "execution_count": 112,
     "metadata": {},
     "output_type": "execute_result"
    }
   ],
   "source": [
    "\n",
    "icka[1].replace('Více', '')"
   ]
  },
  {
   "cell_type": "code",
   "execution_count": 134,
   "id": "45082b32",
   "metadata": {},
   "outputs": [],
   "source": [
    "icos = []\n",
    "p = 0\n",
    "for q in icka:\n",
    "    s = icka[p].replace('Více', '')\n",
    "    icos.append(s)\n",
    "    p = p + 1\n",
    "    "
   ]
  },
  {
   "cell_type": "code",
   "execution_count": 136,
   "id": "0f77acde",
   "metadata": {},
   "outputs": [
    {
     "data": {
      "text/plain": [
       "['72664398Více',\n",
       " '04580451Více',\n",
       " '25117360Více',\n",
       " '26752352Více',\n",
       " '88139271Více',\n",
       " '09934855Více',\n",
       " '05554942Více',\n",
       " '02891816Více',\n",
       " '09767720Více',\n",
       " '25157345Více',\n",
       " '05773717Více']"
      ]
     },
     "execution_count": 136,
     "metadata": {},
     "output_type": "execute_result"
    }
   ],
   "source": [
    "icka"
   ]
  },
  {
   "cell_type": "code",
   "execution_count": 137,
   "id": "d716226c",
   "metadata": {},
   "outputs": [
    {
     "data": {
      "text/plain": [
       "['72664398',\n",
       " '04580451',\n",
       " '25117360',\n",
       " '26752352',\n",
       " '88139271',\n",
       " '09934855',\n",
       " '05554942',\n",
       " '02891816',\n",
       " '09767720',\n",
       " '25157345',\n",
       " '05773717']"
      ]
     },
     "execution_count": 137,
     "metadata": {},
     "output_type": "execute_result"
    }
   ],
   "source": [
    "icos"
   ]
  },
  {
   "cell_type": "code",
   "execution_count": 138,
   "id": "447d3a77",
   "metadata": {},
   "outputs": [
    {
     "data": {
      "text/plain": [
       "['04580451',\n",
       " '25117360',\n",
       " '26752352',\n",
       " '88139271',\n",
       " '09934855',\n",
       " '05554942',\n",
       " '02891816',\n",
       " '09767720',\n",
       " '25157345',\n",
       " '05773717']"
      ]
     },
     "execution_count": 138,
     "metadata": {},
     "output_type": "execute_result"
    }
   ],
   "source": [
    "del icos[0]\n",
    "icos"
   ]
  },
  {
   "cell_type": "code",
   "execution_count": 148,
   "id": "a64abfff",
   "metadata": {},
   "outputs": [
    {
     "data": {
      "text/plain": [
       "['firmy.cz detail La Piazza Praha 3',\n",
       " 'firmy.cz detail Pizza Einstein Praha 3',\n",
       " 'firmy.cz detail Pizzeria Rustica Praha 3',\n",
       " 'firmy.cz detail Pizzeria Vende Maria Praha 3',\n",
       " 'firmy.cz detail Sasy The Originál Praha 3',\n",
       " 'firmy.cz detail Zahradní restaurace MIMINOO Praha 3',\n",
       " 'firmy.cz detail il capitano ristorante Praha 3',\n",
       " 'firmy.cz detail Pizza di Praga Praha 3',\n",
       " 'firmy.cz detail Pizzerie Redflower Praha 3',\n",
       " 'firmy.cz detail AMUNÌ Slow Food Pizza Praha 3']"
      ]
     },
     "execution_count": 148,
     "metadata": {},
     "output_type": "execute_result"
    }
   ],
   "source": [
    "del companies_ico[0]\n",
    "companies_ico"
   ]
  },
  {
   "cell_type": "code",
   "execution_count": 139,
   "id": "49ba0083",
   "metadata": {},
   "outputs": [
    {
     "data": {
      "text/plain": [
       "['04580451',\n",
       " '25117360',\n",
       " '26752352',\n",
       " '09934855',\n",
       " '05554942',\n",
       " '02891816',\n",
       " '09767720',\n",
       " '25157345',\n",
       " '05773717']"
      ]
     },
     "execution_count": 139,
     "metadata": {},
     "output_type": "execute_result"
    }
   ],
   "source": [
    "del icos[3]\n",
    "icos"
   ]
  },
  {
   "cell_type": "code",
   "execution_count": 149,
   "id": "47d37f19",
   "metadata": {},
   "outputs": [
    {
     "data": {
      "text/plain": [
       "['firmy.cz detail La Piazza Praha 3',\n",
       " 'firmy.cz detail Pizza Einstein Praha 3',\n",
       " 'firmy.cz detail Pizzeria Rustica Praha 3',\n",
       " 'firmy.cz detail Sasy The Originál Praha 3',\n",
       " 'firmy.cz detail Zahradní restaurace MIMINOO Praha 3',\n",
       " 'firmy.cz detail il capitano ristorante Praha 3',\n",
       " 'firmy.cz detail Pizza di Praga Praha 3',\n",
       " 'firmy.cz detail Pizzerie Redflower Praha 3',\n",
       " 'firmy.cz detail AMUNÌ Slow Food Pizza Praha 3']"
      ]
     },
     "execution_count": 149,
     "metadata": {},
     "output_type": "execute_result"
    }
   ],
   "source": [
    "del companies_ico[3]\n",
    "companies_ico"
   ]
  },
  {
   "cell_type": "code",
   "execution_count": 166,
   "id": "52937bf2",
   "metadata": {},
   "outputs": [
    {
     "data": {
      "text/plain": [
       "['La Piazza Praha 3',\n",
       " 'Pizza Einstein Praha 3',\n",
       " 'Pizzeria Rustica Praha 3',\n",
       " 'Sasy The Originál Praha 3',\n",
       " 'Zahradní restaurace MIMINOO Praha 3',\n",
       " 'il capitano ristorante Praha 3',\n",
       " 'Pizza di Praga Praha 3',\n",
       " 'Pizzerie Redflower Praha 3',\n",
       " 'AMUNÌ Slow Food Pizza Praha 3']"
      ]
     },
     "execution_count": 166,
     "metadata": {},
     "output_type": "execute_result"
    }
   ],
   "source": [
    "bez1 = []\n",
    "p = 0\n",
    "for q in companies_ico:\n",
    "    d = companies_ico[p].replace('firmy.cz detail ', '')\n",
    "    bez1.append(d)\n",
    "    p = p + 1\n",
    "    \n",
    "\n",
    "bez1"
   ]
  },
  {
   "cell_type": "code",
   "execution_count": 165,
   "id": "4ed208ce",
   "metadata": {},
   "outputs": [
    {
     "data": {
      "text/plain": [
       "['La Piazza',\n",
       " 'Pizza Einstein',\n",
       " 'Pizzeria Rustica',\n",
       " 'Sasy The Originál',\n",
       " 'Zahradní restaurace MIMINOO',\n",
       " 'il capitano ristorante',\n",
       " 'Pizza di Praga',\n",
       " 'Pizzerie Redflower',\n",
       " 'AMUNÌ Slow Food Pizza']"
      ]
     },
     "execution_count": 165,
     "metadata": {},
     "output_type": "execute_result"
    }
   ],
   "source": [
    "bez = []\n",
    "p = 0\n",
    "for q in bez1:\n",
    "    d = bez1[p].replace(' Praha 3', '')\n",
    "    bez.append(d)\n",
    "    p = p + 1\n",
    "    \n",
    "\n",
    "bez"
   ]
  },
  {
   "cell_type": "code",
   "execution_count": 162,
   "id": "742ab0ce",
   "metadata": {},
   "outputs": [],
   "source": [
    "f = pd.DataFrame(list(zip(bez, icos)), columns = ['Name', 'IČO'])"
   ]
  },
  {
   "cell_type": "code",
   "execution_count": 163,
   "id": "96b29bad",
   "metadata": {},
   "outputs": [
    {
     "data": {
      "text/html": [
       "<div>\n",
       "<style scoped>\n",
       "    .dataframe tbody tr th:only-of-type {\n",
       "        vertical-align: middle;\n",
       "    }\n",
       "\n",
       "    .dataframe tbody tr th {\n",
       "        vertical-align: top;\n",
       "    }\n",
       "\n",
       "    .dataframe thead th {\n",
       "        text-align: right;\n",
       "    }\n",
       "</style>\n",
       "<table border=\"1\" class=\"dataframe\">\n",
       "  <thead>\n",
       "    <tr style=\"text-align: right;\">\n",
       "      <th></th>\n",
       "      <th>Name</th>\n",
       "      <th>IČO</th>\n",
       "    </tr>\n",
       "  </thead>\n",
       "  <tbody>\n",
       "    <tr>\n",
       "      <th>0</th>\n",
       "      <td>La Piazza</td>\n",
       "      <td>04580451</td>\n",
       "    </tr>\n",
       "    <tr>\n",
       "      <th>1</th>\n",
       "      <td>Pizza Einstein</td>\n",
       "      <td>25117360</td>\n",
       "    </tr>\n",
       "    <tr>\n",
       "      <th>2</th>\n",
       "      <td>Pizzeria Rustica</td>\n",
       "      <td>26752352</td>\n",
       "    </tr>\n",
       "    <tr>\n",
       "      <th>3</th>\n",
       "      <td>Sasy The Originál</td>\n",
       "      <td>09934855</td>\n",
       "    </tr>\n",
       "    <tr>\n",
       "      <th>4</th>\n",
       "      <td>Zahradní restaurace MIMINOO</td>\n",
       "      <td>05554942</td>\n",
       "    </tr>\n",
       "    <tr>\n",
       "      <th>5</th>\n",
       "      <td>il capitano ristorante</td>\n",
       "      <td>02891816</td>\n",
       "    </tr>\n",
       "    <tr>\n",
       "      <th>6</th>\n",
       "      <td>Pizza di Praga</td>\n",
       "      <td>09767720</td>\n",
       "    </tr>\n",
       "    <tr>\n",
       "      <th>7</th>\n",
       "      <td>Pizzerie Redflower</td>\n",
       "      <td>25157345</td>\n",
       "    </tr>\n",
       "    <tr>\n",
       "      <th>8</th>\n",
       "      <td>AMUNÌ Slow Food Pizza</td>\n",
       "      <td>05773717</td>\n",
       "    </tr>\n",
       "  </tbody>\n",
       "</table>\n",
       "</div>"
      ],
      "text/plain": [
       "                          Name       IČO\n",
       "0                    La Piazza  04580451\n",
       "1               Pizza Einstein  25117360\n",
       "2             Pizzeria Rustica  26752352\n",
       "3            Sasy The Originál  09934855\n",
       "4  Zahradní restaurace MIMINOO  05554942\n",
       "5       il capitano ristorante  02891816\n",
       "6               Pizza di Praga  09767720\n",
       "7           Pizzerie Redflower  25157345\n",
       "8        AMUNÌ Slow Food Pizza  05773717"
      ]
     },
     "execution_count": 163,
     "metadata": {},
     "output_type": "execute_result"
    }
   ],
   "source": [
    "f"
   ]
  },
  {
   "cell_type": "code",
   "execution_count": 164,
   "id": "93a43504",
   "metadata": {},
   "outputs": [],
   "source": [
    "f.to_excel(r'C:/Users/sjadviscok001/Downloads/Name.xlsx', index = False)"
   ]
  },
  {
   "cell_type": "code",
   "execution_count": 144,
   "id": "c6a385e3",
   "metadata": {},
   "outputs": [
    {
     "name": "stderr",
     "output_type": "stream",
     "text": [
      "C:\\Users\\SJADVI~1\\AppData\\Local\\Temp/ipykernel_18736/1087314024.py:3: DeprecationWarning: executable_path has been deprecated, please pass in a Service object\n",
      "  driver = webdriver.Chrome('C:/Users/sjadviscok001/Downloads/chromedriver.exe')\n",
      "C:\\Users\\SJADVI~1\\AppData\\Local\\Temp/ipykernel_18736/1087314024.py:10: DeprecationWarning: find_element_by_xpath is deprecated. Please use find_element(by=By.XPATH, value=xpath) instead\n",
      "  search = driver.find_element_by_xpath(\"/html/body/div[1]/div[2]/div/div/div/form/div[2]/span/input\")\n",
      "C:\\Users\\SJADVI~1\\AppData\\Local\\Temp/ipykernel_18736/1087314024.py:13: DeprecationWarning: find_element_by_xpath is deprecated. Please use find_element(by=By.XPATH, value=xpath) instead\n",
      "  documents = driver.find_element_by_xpath('/html/body/div[1]/div[2]/div/div[2]/div[2]/div/ol/li/div/ul/li[3]/a')\n",
      "C:\\Users\\SJADVI~1\\AppData\\Local\\Temp/ipykernel_18736/1087314024.py:15: DeprecationWarning: find_element_by_tag_name is deprecated. Please use find_element(by=By.TAG_NAME, value=name) instead\n",
      "  span = driver.find_element_by_tag_name('span')\n",
      "C:\\Users\\SJADVI~1\\AppData\\Local\\Temp/ipykernel_18736/1087314024.py:17: DeprecationWarning: find_element_by_tag_name is deprecated. Please use find_element(by=By.TAG_NAME, value=name) instead\n",
      "  download = driver.find_element_by_tag_name('a')\n"
     ]
    }
   ],
   "source": [
    "from selenium.webdriver.chrome.options import Options\n",
    "from selenium.webdriver.common.keys import Keys\n",
    "driver = webdriver.Chrome('C:/Users/sjadviscok001/Downloads/chromedriver.exe')\n",
    "\n",
    "i = 0\n",
    "order = 0\n",
    "\n",
    "for i in icos:\n",
    "    driver.get('https://or.justice.cz/ias/ui/rejstrik') \n",
    "    search = driver.find_element_by_xpath(\"/html/body/div[1]/div[2]/div/div/div/form/div[2]/span/input\")\n",
    "    search.send_keys(icos[order])  \n",
    "    search.send_keys(Keys.RETURN) \n",
    "    documents = driver.find_element_by_xpath('/html/body/div[1]/div[2]/div/div[2]/div[2]/div/ol/li/div/ul/li[3]/a')\n",
    "    documents.click()\n",
    "    span = driver.find_element_by_tag_name('span')\n",
    "    span.click()\n",
    "    download = driver.find_element_by_tag_name('a')\n",
    "    download.click()\n",
    "    i =+ 1\n",
    "   #driver.find_element_by_tag_name('body').send_keys(Keys.COMMAND + 't') \n",
    "    #driver.get('https://or.justice.cz/ias/ui/rejstrik')\n",
    "         \n"
   ]
  },
  {
   "cell_type": "code",
   "execution_count": null,
   "id": "dd3186aa",
   "metadata": {},
   "outputs": [],
   "source": []
  }
 ],
 "metadata": {
  "kernelspec": {
   "display_name": "Python 3 (ipykernel)",
   "language": "python",
   "name": "python3"
  },
  "language_info": {
   "codemirror_mode": {
    "name": "ipython",
    "version": 3
   },
   "file_extension": ".py",
   "mimetype": "text/x-python",
   "name": "python",
   "nbconvert_exporter": "python",
   "pygments_lexer": "ipython3",
   "version": "3.9.7"
  }
 },
 "nbformat": 4,
 "nbformat_minor": 5
}
